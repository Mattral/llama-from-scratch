{
 "cells": [
  {
   "cell_type": "code",
   "execution_count": 1,
   "metadata": {},
   "outputs": [],
   "source": [
    "import torch\n",
    "from torch import nn\n",
    "from torch.nn import functional as F\n",
    "import numpy as np\n",
    "\n",
    "device = torch.device(\"mps\")"
   ]
  },
  {
   "cell_type": "code",
   "execution_count": 2,
   "metadata": {},
   "outputs": [
    {
     "name": "stdout",
     "output_type": "stream",
     "text": [
      "vocab size: 65\n"
     ]
    }
   ],
   "source": [
    "# simple tokenization by characters\n",
    "\n",
    "lines = open('./input.txt', 'r').read()\n",
    "\n",
    "vocab = list(set(lines))\n",
    "itos = {i:ch for i, ch in enumerate(vocab)}\n",
    "stoi = {ch:i for i, ch in enumerate(vocab)}\n",
    "\n",
    "def encode(s):\n",
    "    return [stoi[ch] for ch in s]\n",
    "\n",
    "def decode(l):\n",
    "    return ''.join([itos[i] for i in l])\n",
    "\n",
    "print('vocab size:', len(vocab))"
   ]
  },
  {
   "cell_type": "code",
   "execution_count": 3,
   "metadata": {},
   "outputs": [
    {
     "data": {
      "text/plain": [
       "tensor([36, 60, 42,  ..., 17, 11, 35], device='mps:0', dtype=torch.int8)"
      ]
     },
     "execution_count": 3,
     "metadata": {},
     "output_type": "execute_result"
    }
   ],
   "source": [
    "dataset = torch.tensor(encode(lines), dtype=torch.int8, device=device)\n",
    "dataset"
   ]
  },
  {
   "attachments": {},
   "cell_type": "markdown",
   "metadata": {},
   "source": [
    "We want to run training with minibatches of size 8."
   ]
  },
  {
   "cell_type": "code",
   "execution_count": 4,
   "metadata": {},
   "outputs": [],
   "source": [
    "BATCH_SIZE = 8\n",
    "CONTEXT_WINDOW = 32\n",
    "\n",
    "config = {\n",
    "    \"d_model\": 100,\n",
    "    \"vocab_size\": len(vocab),\n",
    "    \"max_len\": CONTEXT_WINDOW,\n",
    "}\n",
    "\n",
    "def get_batches(data, batch_size, context_window):\n",
    "    xs = torch.zeros(batch_size, context_window, device=device, dtype=torch.long)\n",
    "    ys = torch.zeros(batch_size, context_window, device=device, dtype=torch.long)\n",
    "\n",
    "    # pick random starting points\n",
    "    starts = torch.randint(0, len(data) - context_window - 1, (batch_size,))\n",
    "    for item, start in enumerate(starts):\n",
    "        \n",
    "        xs[item] += data[start:start+context_window]\n",
    "        ys[item] += data[start+1:start+context_window+1]\n",
    "    return xs, ys\n",
    "    \n",
    "\n",
    "xs, ys = get_batches(dataset, BATCH_SIZE, CONTEXT_WINDOW)"
   ]
  },
  {
   "cell_type": "code",
   "execution_count": 55,
   "metadata": {},
   "outputs": [
    {
     "name": "stdout",
     "output_type": "stream",
     "text": [
      "tensor([[[1., 1.],\n",
      "         [1., 1.]],\n",
      "\n",
      "        [[2., 2.],\n",
      "         [2., 2.]],\n",
      "\n",
      "        [[3., 3.],\n",
      "         [3., 3.]],\n",
      "\n",
      "        [[4., 4.],\n",
      "         [4., 4.]],\n",
      "\n",
      "        [[5., 5.],\n",
      "         [5., 5.]]])\n",
      "torch.Size([5, 2, 2])\n"
     ]
    }
   ],
   "source": [
    "class RotaryEmbedding(nn.Module):\n",
    "    \"\"\"\n",
    "    Rotary embeddings.\n",
    "\n",
    "    Input: (BATCH_SIZE x CONTEXT_WINDOW)\n",
    "    Output: (BATCH_SIZE x CONTEXT_WINDOW x EMBEDDING_DIM)\n",
    "    \"\"\"\n",
    "    def __init__(self, config):\n",
    "        super().__init__()\n",
    "        self.config = config\n",
    "        self.embedding = nn.Embedding(config['d_model'], config['d_model'])\n",
    "\n",
    "        if config['d_model'] % 2 != 0:\n",
    "            raise ValueError(\"d_model must be divisible by 2\")\n",
    "\n",
    "    \n",
    "    def forward(self, x):\n",
    "        indices = torch.arange(1, self.config['d_model']/2 + 1)\n",
    "        # theta = 10000 ** (-2*(indices - 1) / self.config['d_model'])\n",
    "\n",
    "        t = torch.stack([indices, indices], dim=1)\n",
    "        g = torch.stack([t,t], dim=2)\n",
    "\n",
    "        return g\n",
    "\n",
    "\n",
    "rotary = RotaryEmbedding({\n",
    "    \"d_model\": 10,\n",
    "})\n",
    "\n",
    "# rotary(torch.zeros(1, 1))[10,:,:]\n",
    "\n",
    "i = -1\n",
    "gg = rotary(torch.zeros(1, 1))\n",
    "# print(gg[i,:,:])\n",
    "print(gg)\n",
    "print(gg.shape)\n",
    "\n",
    "# theta = 10000. ** -2*(i - 1) / 512\n",
    "# np.array([ \n",
    "#     np.cos(theta), -np.sin(theta), \n",
    "#     np.sin(theta), np.cos(theta)\n",
    "# ]).reshape(2,2)"
   ]
  },
  {
   "cell_type": "code",
   "execution_count": null,
   "metadata": {},
   "outputs": [],
   "source": [
    "# Llama is transformer. what makes it different\n",
    "# prenormalization at each sub-layer using RMSNorm\n",
    "# SwiGLU activation function with 2/3*4d as dimension\n",
    "# Rotary embeddings instead of absolute positional embeddings\n",
    "class LlamaLayer(nn.Module):\n",
    "    \"\"\"\n",
    "    \"\"\"\n",
    "    def __init__(self, config = {\n",
    "        \"num_heads\": 5,\n",
    "        \"embed_dim\": 100, # how many dimensions in the word embedding\n",
    "    }):\n",
    "        super().__init__()\n",
    "        # multi attention head with pre-normalization\n",
    "        self.multihead_attention = nn.MultiheadAttention(**config)"
   ]
  },
  {
   "cell_type": "code",
   "execution_count": 44,
   "metadata": {},
   "outputs": [],
   "source": [
    "\n",
    "class Llama(nn.Module):\n",
    "    def __init__(self, config):\n",
    "        super().__init__()\n",
    "        self.config = config\n",
    "        self.embeddings = nn.Embedding(config.vocab_size, config.d_model)\n",
    "        self.pos_embeddings = nn.Embedding(config.max_len, config.d_model)\n",
    "        self.rotary_pos_embeddings = RotaryEmbedding(config.d_model)\n",
    "        self.layers = nn.ModuleList([LlamaLayer(config) for _ in range(config.num_layers)])\n",
    "        self.norm = RMSNorm(config.d_model)\n",
    "        self.fc = nn.Linear(config.d_model, config.vocab_size)\n",
    "\n",
    "    def forward(self, x, pos):\n",
    "        x = self.embeddings(x)\n",
    "        pos = self.pos_embeddings(pos)\n",
    "        x = x + pos\n",
    "        x = self.rotary_pos_embeddings(x)\n",
    "        for layer in self.layers:\n",
    "            x = layer(x)\n",
    "        x = self.norm(x)\n",
    "        x = self.fc(x)\n",
    "        return x"
   ]
  },
  {
   "cell_type": "code",
   "execution_count": null,
   "metadata": {},
   "outputs": [],
   "source": []
  }
 ],
 "metadata": {
  "kernelspec": {
   "display_name": ".llama",
   "language": "python",
   "name": "python3"
  },
  "language_info": {
   "codemirror_mode": {
    "name": "ipython",
    "version": 3
   },
   "file_extension": ".py",
   "mimetype": "text/x-python",
   "name": "python",
   "nbconvert_exporter": "python",
   "pygments_lexer": "ipython3",
   "version": "3.11.4"
  },
  "orig_nbformat": 4
 },
 "nbformat": 4,
 "nbformat_minor": 2
}
