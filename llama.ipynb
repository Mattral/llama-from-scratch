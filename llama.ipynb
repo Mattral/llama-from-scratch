{
 "cells": [
  {
   "cell_type": "code",
   "execution_count": 1,
   "metadata": {},
   "outputs": [],
   "source": [
    "import torch\n",
    "from torch import nn\n",
    "from torch.nn import functional as F\n",
    "import numpy as np\n",
    "\n",
    "device = torch.device(\"mps\")"
   ]
  },
  {
   "cell_type": "code",
   "execution_count": 2,
   "metadata": {},
   "outputs": [
    {
     "name": "stdout",
     "output_type": "stream",
     "text": [
      "vocab size: 65\n"
     ]
    }
   ],
   "source": [
    "# simple tokenization by characters\n",
    "\n",
    "lines = open('./input.txt', 'r').read()\n",
    "\n",
    "vocab = list(set(lines))\n",
    "itos = {i:ch for i, ch in enumerate(vocab)}\n",
    "stoi = {ch:i for i, ch in enumerate(vocab)}\n",
    "\n",
    "def encode(s):\n",
    "    return [stoi[ch] for ch in s]\n",
    "\n",
    "def decode(l):\n",
    "    return ''.join([itos[i] for i in l])\n",
    "\n",
    "print('vocab size:', len(vocab))"
   ]
  },
  {
   "cell_type": "code",
   "execution_count": 3,
   "metadata": {},
   "outputs": [
    {
     "data": {
      "text/plain": [
       "tensor([23, 64, 21,  ..., 42, 31, 18], device='mps:0', dtype=torch.int8)"
      ]
     },
     "execution_count": 3,
     "metadata": {},
     "output_type": "execute_result"
    }
   ],
   "source": [
    "dataset = torch.tensor(encode(lines), dtype=torch.int8, device=device)\n",
    "dataset"
   ]
  },
  {
   "attachments": {},
   "cell_type": "markdown",
   "metadata": {},
   "source": [
    "We want to run training with minibatches of size 8."
   ]
  },
  {
   "cell_type": "code",
   "execution_count": 4,
   "metadata": {},
   "outputs": [],
   "source": [
    "BATCH_SIZE = 8\n",
    "CONTEXT_WINDOW = 32\n",
    "\n",
    "config = {\n",
    "    \"d_model\": 100,\n",
    "    \"vocab_size\": len(vocab),\n",
    "    \"max_len\": CONTEXT_WINDOW,\n",
    "}\n",
    "\n",
    "def get_batches(data, batch_size, context_window):\n",
    "    xs = torch.zeros(batch_size, context_window, device=device, dtype=torch.long)\n",
    "    ys = torch.zeros(batch_size, context_window, device=device, dtype=torch.long)\n",
    "\n",
    "    # pick random starting points\n",
    "    starts = torch.randint(0, len(data) - context_window - 1, (batch_size,))\n",
    "    for item, start in enumerate(starts):\n",
    "        \n",
    "        xs[item] += data[start:start+context_window]\n",
    "        ys[item] += data[start+1:start+context_window+1]\n",
    "    return xs, ys\n",
    "    \n",
    "\n",
    "xs, ys = get_batches(dataset, BATCH_SIZE, CONTEXT_WINDOW)"
   ]
  },
  {
   "cell_type": "code",
   "execution_count": 13,
   "metadata": {},
   "outputs": [
    {
     "data": {
      "text/plain": [
       "torch.Size([512, 512, 512])"
      ]
     },
     "execution_count": 13,
     "metadata": {},
     "output_type": "execute_result"
    }
   ],
   "source": [
    "class RotarySelfAttention(nn.Module):\n",
    "    \"\"\"\n",
    "    Rotary embeddings.\n",
    "\n",
    "    Input: (BATCH_SIZE x CONTEXT_WINDOW)\n",
    "    Output: (BATCH_SIZE x CONTEXT_WINDOW x EMBEDDING_DIM)\n",
    "    \"\"\"\n",
    "    def __init__(self, config):\n",
    "        super().__init__()\n",
    "        self.config = config\n",
    "\n",
    "        if config['d_model'] % 2 != 0:\n",
    "            raise ValueError(\"d_model must be divisible by 2\")\n",
    "        self.w_q = torch.randn(config['d_model'], config['d_model'])\n",
    "        self.w_k = torch.randn(config['d_model'], config['d_model'])\n",
    "        self.w_v = torch.randn(config['d_model'], config['d_model'])\n",
    "        self.R = self.get_rotary_matrix() # [d_model x d_model x context_window]\n",
    "\n",
    "    def get_rotary_matrix(self):\n",
    "        context_window = self.config['context_window']\n",
    "        d = self.config['d_model']\n",
    "        R = torch.zeros((d, d, context_window))\n",
    "        for m in range(context_window):\n",
    "            for i in range(d//2):\n",
    "                theta = 10000. ** (-2.*(i - 1) / d)\n",
    "                R[2*i,2*i, m] = np.cos(m * theta)\n",
    "                R[2*i,2*i+1, m] = - np.sin(m * theta)\n",
    "                R[2*i+1,2*i, m] = np.sin(m * theta)\n",
    "                R[2*i+1,2*i+1, m] = np.cos(m * theta)\n",
    "        return R\n",
    "\n",
    "    def forward(self, x):\n",
    "        \"\"\"\n",
    "        x: [BATCH_SIZE x CONTEXT_WINDOW x EMBEDDING_DIM]\n",
    "        out: [BATCH_SIZE x CONTEXT_WINDOW x EMBEDDING_DIM]\n",
    "        \"\"\"\n",
    "        # q = R_m W_q x_m\n",
    "        # okay, just get the embedding for the mth position\n",
    "\n",
    "        # this is the mth embedding across all the batches\n",
    "        q = x[0, :, :] @ self.w_q # query embedding\n",
    "        # the thing i'm expecting should be the rotated query matrix,\n",
    "        # but not across all m, just for the mth position\n",
    "\n",
    "\n",
    "config = {\n",
    "    \"batch_size\": 1,\n",
    "    \"context_window\": 10,\n",
    "    \"d_model\": 512,\n",
    "}\n",
    "r = RotarySelfAttention(config)\n",
    "batch = torch.randn((config['batch_size'], config['context_window'], config['d_model']))\n",
    "\n",
    "r(batch).shape"
   ]
  },
  {
   "cell_type": "code",
   "execution_count": null,
   "metadata": {},
   "outputs": [],
   "source": [
    "# Llama is transformer. what makes it different\n",
    "# prenormalization at each sub-layer using RMSNorm\n",
    "# SwiGLU activation function with 2/3*4d as dimension\n",
    "# Rotary embeddings instead of absolute positional embeddings\n",
    "class LlamaLayer(nn.Module):\n",
    "    \"\"\"\n",
    "    \"\"\"\n",
    "    def __init__(self, config = {\n",
    "        \"num_heads\": 5,\n",
    "        \"embed_dim\": 100, # how many dimensions in the word embedding\n",
    "    }):\n",
    "        super().__init__()\n",
    "        # multi attention head with pre-normalization\n",
    "        self.multihead_attention = nn.MultiheadAttention(**config)"
   ]
  },
  {
   "cell_type": "code",
   "execution_count": 44,
   "metadata": {},
   "outputs": [],
   "source": [
    "\n",
    "class Llama(nn.Module):\n",
    "    def __init__(self, config):\n",
    "        super().__init__()\n",
    "        self.config = config\n",
    "        self.embeddings = nn.Embedding(config.vocab_size, config.d_model)\n",
    "        self.pos_embeddings = nn.Embedding(config.max_len, config.d_model)\n",
    "        self.rotary_pos_embeddings = RotaryEmbedding(config.d_model)\n",
    "        self.layers = nn.ModuleList([LlamaLayer(config) for _ in range(config.num_layers)])\n",
    "        self.norm = RMSNorm(config.d_model)\n",
    "        self.fc = nn.Linear(config.d_model, config.vocab_size)\n",
    "\n",
    "    def forward(self, x, pos):\n",
    "        x = self.embeddings(x)\n",
    "        pos = self.pos_embeddings(pos)\n",
    "        x = x + pos\n",
    "        x = self.rotary_pos_embeddings(x)\n",
    "        for layer in self.layers:\n",
    "            x = layer(x)\n",
    "        x = self.norm(x)\n",
    "        x = self.fc(x)\n",
    "        return x"
   ]
  },
  {
   "cell_type": "code",
   "execution_count": null,
   "metadata": {},
   "outputs": [],
   "source": []
  }
 ],
 "metadata": {
  "kernelspec": {
   "display_name": ".llama",
   "language": "python",
   "name": "python3"
  },
  "language_info": {
   "codemirror_mode": {
    "name": "ipython",
    "version": 3
   },
   "file_extension": ".py",
   "mimetype": "text/x-python",
   "name": "python",
   "nbconvert_exporter": "python",
   "pygments_lexer": "ipython3",
   "version": "3.11.4"
  },
  "orig_nbformat": 4
 },
 "nbformat": 4,
 "nbformat_minor": 2
}
