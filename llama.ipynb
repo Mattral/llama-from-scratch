{
 "cells": [
  {
   "cell_type": "code",
   "execution_count": 87,
   "metadata": {},
   "outputs": [],
   "source": [
    "import torch\n",
    "from torch import nn\n",
    "from torch.nn import functional as F\n",
    "import numpy as np\n",
    "\n",
    "device = torch.device(\"mps\")"
   ]
  },
  {
   "cell_type": "code",
   "execution_count": 88,
   "metadata": {},
   "outputs": [
    {
     "name": "stdout",
     "output_type": "stream",
     "text": [
      "vocab size: 65\n"
     ]
    }
   ],
   "source": [
    "# simple tokenization by characters\n",
    "\n",
    "lines = open('./input.txt', 'r').read()\n",
    "\n",
    "vocab = list(set(lines))\n",
    "itos = {i:ch for i, ch in enumerate(vocab)}\n",
    "stoi = {ch:i for i, ch in enumerate(vocab)}\n",
    "\n",
    "def encode(s):\n",
    "    return [stoi[ch] for ch in s]\n",
    "\n",
    "def decode(l):\n",
    "    return ''.join([itos[i] for i in l])\n",
    "\n",
    "print('vocab size:', len(vocab))"
   ]
  },
  {
   "cell_type": "code",
   "execution_count": 89,
   "metadata": {},
   "outputs": [
    {
     "data": {
      "text/plain": [
       "tensor([23, 64, 21,  ..., 42, 31, 18], device='mps:0', dtype=torch.int8)"
      ]
     },
     "execution_count": 89,
     "metadata": {},
     "output_type": "execute_result"
    }
   ],
   "source": [
    "dataset = torch.tensor(encode(lines), dtype=torch.int8, device=device)\n",
    "dataset"
   ]
  },
  {
   "attachments": {},
   "cell_type": "markdown",
   "metadata": {},
   "source": [
    "We want to run training with minibatches of size 8."
   ]
  },
  {
   "cell_type": "code",
   "execution_count": 90,
   "metadata": {},
   "outputs": [],
   "source": [
    "BATCH_SIZE = 8\n",
    "CONTEXT_WINDOW = 32\n",
    "\n",
    "config = {\n",
    "    \"d_model\": 100,\n",
    "    \"vocab_size\": len(vocab),\n",
    "    \"max_len\": CONTEXT_WINDOW,\n",
    "}\n",
    "\n",
    "def get_batches(data, batch_size, context_window):\n",
    "    xs = torch.zeros(batch_size, context_window, device=device, dtype=torch.long)\n",
    "    ys = torch.zeros(batch_size, context_window, device=device, dtype=torch.long)\n",
    "\n",
    "    # pick random starting points\n",
    "    starts = torch.randint(0, len(data) - context_window - 1, (batch_size,))\n",
    "    for item, start in enumerate(starts):\n",
    "        \n",
    "        xs[item] += data[start:start+context_window]\n",
    "        ys[item] += data[start+1:start+context_window+1]\n",
    "    return xs, ys\n",
    "    \n",
    "\n",
    "xs, ys = get_batches(dataset, BATCH_SIZE, CONTEXT_WINDOW)"
   ]
  },
  {
   "cell_type": "code",
   "execution_count": 95,
   "metadata": {},
   "outputs": [
    {
     "data": {
      "text/plain": [
       "torch.Size([3, 10, 512])"
      ]
     },
     "execution_count": 95,
     "metadata": {},
     "output_type": "execute_result"
    }
   ],
   "source": [
    "class MaskedRotarySelfAttentionHead(nn.Module):\n",
    "    \"\"\"\n",
    "    Rotary embeddings.\n",
    "\n",
    "    Input: (BATCH_SIZE x CONTEXT_WINDOW)\n",
    "    Output: (BATCH_SIZE x CONTEXT_WINDOW x EMBEDDING_DIM)\n",
    "    \"\"\"\n",
    "    def __init__(self, config):\n",
    "        super().__init__()\n",
    "        self.config = config\n",
    "\n",
    "        if config['d_model'] % 2 != 0:\n",
    "            raise ValueError(\"d_model must be divisible by 2\")\n",
    "        self.w_q = torch.randn(config['d_model'], config['d_model'])\n",
    "        self.w_k = torch.randn(config['d_model'], config['d_model'])\n",
    "        self.w_v = torch.randn(config['d_model'], config['d_model'])\n",
    "        self.register_buffer(\"tril\", torch.tril(torch.ones(config['context_window'], config['context_window'])))  # mask\n",
    "        \n",
    "        self.R = self.get_rotary_matrix() # [d_model x d_model x context_window]\n",
    "\n",
    "    def get_rotary_matrix(self):\n",
    "        context_window = self.config['context_window']\n",
    "        d = self.config['d_model']\n",
    "        R = torch.zeros((d, d, context_window))\n",
    "        for m in range(context_window):\n",
    "            for i in range(d//2):\n",
    "                theta = 10000. ** (-2.*(i - 1) / d)\n",
    "                R[2*i,2*i, m] = np.cos(m * theta)\n",
    "                R[2*i,2*i+1, m] = - np.sin(m * theta)\n",
    "                R[2*i+1,2*i, m] = np.sin(m * theta)\n",
    "                R[2*i+1,2*i+1, m] = np.cos(m * theta)\n",
    "        return R\n",
    "\n",
    "    def forward(self, x):\n",
    "        \"\"\"\n",
    "        x: [BATCH_SIZE x CONTEXT_WINDOW x EMBEDDING_DIM]\n",
    "        out: [BATCH_SIZE x CONTEXT_WINDOW x EMBEDDING_DIM]\n",
    "        \"\"\"\n",
    "        b = self.config['batch_size']\n",
    "        d = self.config['d_model']\n",
    "        m = self.config['context_window']\n",
    "\n",
    "        q_rotated_query_weight = self.w_q @ self.R # [d x d x m]\n",
    "        q = q_rotated_query_weight.view(m, d, d) @ x.view(m, d, b)\n",
    "        q = q.view(b, m, d)\n",
    "\n",
    "        k_rotated_query_weight = self.w_k @ self.R # [d x d x m]\n",
    "        k = k_rotated_query_weight.view(m, d, d) @ x.view(m, d, b)\n",
    "        k = k.view(b, m, d)\n",
    "        \n",
    "        B = (q @ k.transpose(1,2)) / np.sqrt(self.config['d_model'])\n",
    "        mask = B.masked_fill(self.tril[:m, :m] == 0, float(\"-inf\"))\n",
    "        a = F.softmax(mask, dim=-1) # attention\n",
    "        v = x @ self.w_v \n",
    "        out = a @ v\n",
    "        return out\n",
    "\n",
    "\n",
    "config = {\n",
    "    \"batch_size\": 3,\n",
    "    \"context_window\": 10,\n",
    "    \"d_model\": 512,\n",
    "}\n",
    "r = RotarySelfAttention(config)\n",
    "batch = torch.randn((config['batch_size'], config['context_window'], config['d_model']))\n",
    "\n",
    "r(batch).shape\n",
    "\n",
    "# ==== check ====\n",
    "# s = batch[0,:,:]\n",
    "# (r.w_q @ r.R)"
   ]
  },
  {
   "cell_type": "code",
   "execution_count": 97,
   "metadata": {},
   "outputs": [
    {
     "data": {
      "text/plain": [
       "torch.Size([3, 10, 512])"
      ]
     },
     "execution_count": 97,
     "metadata": {},
     "output_type": "execute_result"
    }
   ],
   "source": [
    "class MaskedRotaryNultiHeadedAttention(nn.Module):\n",
    "    def __init__(self, config):\n",
    "        super().__init__()\n",
    "        self.config = config\n",
    "        self.heads = nn.ModuleList([\n",
    "            MaskedRotarySelfAttentionHead(config) for _ in range(config[\"n_heads\"])\n",
    "        ])\n",
    "        self.linear = nn.Linear(config[\"n_heads\"] * config[\"d_model\"], config[\"d_model\"])\n",
    "        self.dropout = nn.Dropout(0.1)\n",
    "\n",
    "\n",
    "    def forward(self, x):\n",
    "        out = torch.cat([head(x) for head in self.heads], dim=-1)\n",
    "        out = self.dropout(self.linear(out))\n",
    "        return out\n",
    "\n",
    "config = {\n",
    "    \"n_heads\": 8,\n",
    "    \"d_model\": 512,\n",
    "    \"batch_size\": 3,\n",
    "    \"context_window\": 10,\n",
    "}\n",
    "\n",
    "batch = torch.randn((config['batch_size'], config['context_window'], config['d_model']))\n",
    "m = MaskedRotaryNultiHeadedAttention(config)\n",
    "\n",
    "m(batch).shape"
   ]
  },
  {
   "cell_type": "code",
   "execution_count": 93,
   "metadata": {},
   "outputs": [],
   "source": [
    "\n",
    "class Llama(nn.Module):\n",
    "    def __init__(self, config):\n",
    "        super().__init__()\n",
    "        self.config = config\n",
    "\n",
    "    def forward(self, x):\n",
    "        "
   ]
  },
  {
   "cell_type": "code",
   "execution_count": null,
   "metadata": {},
   "outputs": [],
   "source": []
  }
 ],
 "metadata": {
  "kernelspec": {
   "display_name": ".llama",
   "language": "python",
   "name": "python3"
  },
  "language_info": {
   "codemirror_mode": {
    "name": "ipython",
    "version": 3
   },
   "file_extension": ".py",
   "mimetype": "text/x-python",
   "name": "python",
   "nbconvert_exporter": "python",
   "pygments_lexer": "ipython3",
   "version": "3.11.4"
  },
  "orig_nbformat": 4
 },
 "nbformat": 4,
 "nbformat_minor": 2
}
