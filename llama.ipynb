{
 "cells": [
  {
   "cell_type": "code",
   "execution_count": 2,
   "metadata": {},
   "outputs": [],
   "source": [
    "import torch\n",
    "from torch import nn\n",
    "from torch.nn import functional as F\n",
    "import numpy as np\n",
    "from matplotlib import pyplot as plt\n",
    "\n",
    "device = torch.device(\"mps\")"
   ]
  },
  {
   "cell_type": "code",
   "execution_count": 3,
   "metadata": {},
   "outputs": [
    {
     "name": "stdout",
     "output_type": "stream",
     "text": [
      "vocab size: 65\n"
     ]
    }
   ],
   "source": [
    "# simple tokenization by characters\n",
    "\n",
    "lines = open('./input.txt', 'r').read()\n",
    "\n",
    "vocab = list(set(lines))\n",
    "itos = {i:ch for i, ch in enumerate(vocab)}\n",
    "stoi = {ch:i for i, ch in enumerate(vocab)}\n",
    "\n",
    "def encode(s):\n",
    "    return [stoi[ch] for ch in s]\n",
    "\n",
    "def decode(l):\n",
    "    return ''.join([itos[i] for i in l])\n",
    "\n",
    "print('vocab size:', len(vocab))"
   ]
  },
  {
   "cell_type": "code",
   "execution_count": 4,
   "metadata": {},
   "outputs": [
    {
     "data": {
      "text/plain": [
       "tensor([31, 21, 22,  ...,  8, 46, 54], dtype=torch.int8)"
      ]
     },
     "execution_count": 4,
     "metadata": {},
     "output_type": "execute_result"
    }
   ],
   "source": [
    "dataset = torch.tensor(encode(lines), dtype=torch.int8)\n",
    "dataset"
   ]
  },
  {
   "cell_type": "code",
   "execution_count": 84,
   "metadata": {},
   "outputs": [
    {
     "data": {
      "text/plain": [
       "[('I command ', ' command t'),\n",
       " ('s report.\\n', ' report.\\n\\n'),\n",
       " ('pon you fo', 'on you for'),\n",
       " ('nt well. A', 't well. Al'),\n",
       " (\"ry's frien\", \"y's friend\"),\n",
       " ('for our Ir', 'or our Iri'),\n",
       " ('man that w', 'an that wr'),\n",
       " (' me,\\nAnd w', 'me,\\nAnd wo'),\n",
       " (\" have, I'l\", \"have, I'll\"),\n",
       " ('ason. They', 'son. They '),\n",
       " ('but now I ', 'ut now I a'),\n",
       " ('nd not a w', 'd not a wo'),\n",
       " ('hat have b', 'at have be'),\n",
       " ('now,\\nWith ', 'ow,\\nWith s'),\n",
       " ('she may lo', 'he may lon'),\n",
       " ('ood to be ', 'od to be y'),\n",
       " ('Of such as', 'f such as '),\n",
       " ('heir\\ncause', 'eir\\ncause '),\n",
       " ('\\n\\nDERBY:\\nJ', '\\nDERBY:\\nJo'),\n",
       " (' succeedin', 'succeeding'),\n",
       " ('s since I ', ' since I s'),\n",
       " ('was urged ', 'as urged t'),\n",
       " ('oisted sai', 'isted sail'),\n",
       " ('ght.\\n\\nAll:', 'ht.\\n\\nAll:\\n'),\n",
       " ('er for his', 'r for his '),\n",
       " ('heart,\\nAnd', 'eart,\\nAnd '),\n",
       " ('ies asleep', 'es asleep,'),\n",
       " ('not worth ', 'ot worth a'),\n",
       " (' have no c', 'have no ch'),\n",
       " (' remember ', 'remember m'),\n",
       " ('! which th', ' which the'),\n",
       " ('LLA:\\nDoth ', 'LA:\\nDoth h')]"
      ]
     },
     "execution_count": 84,
     "metadata": {},
     "output_type": "execute_result"
    }
   ],
   "source": [
    "config = {\n",
    "    \"d_model\": 100,\n",
    "    \"vocab_size\": len(vocab),\n",
    "    'batch_size': 32,\n",
    "    'context_window': 10,\n",
    "}\n",
    "\n",
    "\n",
    "def get_batches(data, split, batch_size, context_window):\n",
    "    train = data[:int(.8 * len(data))]\n",
    "    val = data[int(.8 * len(data)): int(.9 * len(data))]\n",
    "    test = data[int(.9 * len(data)):]\n",
    "    \n",
    "    batch_data = train\n",
    "    if split == 'val':\n",
    "        batch_data = val\n",
    "    \n",
    "    # pick random starting points\n",
    "    ix = torch.randint(0, batch_data.size(0) - context_window - 1, (batch_size,))\n",
    "    x = torch.stack([batch_data[i:i+context_window] for i in ix]).long()\n",
    "    y = torch.stack([batch_data[i+1:i+context_window+1] for i in ix]).long()\n",
    "    return x, y\n",
    "\n",
    "xs, ys = get_batches(dataset, 'train', config['batch_size'], config['context_window'])\n",
    "\n",
    "[(decode(xs[i].tolist()), decode(ys[i].tolist())) for i in range(len(xs))]"
   ]
  },
  {
   "cell_type": "code",
   "execution_count": 85,
   "metadata": {},
   "outputs": [
    {
     "data": {
      "text/plain": [
       "torch.Size([3, 10, 128])"
      ]
     },
     "execution_count": 85,
     "metadata": {},
     "output_type": "execute_result"
    }
   ],
   "source": [
    "class MaskedRotarySelfAttentionHead(nn.Module):\n",
    "    \"\"\"\n",
    "    Rotary embeddings.\n",
    "\n",
    "    Input: (BATCH_SIZE x CONTEXT_WINDOW)\n",
    "    Output: (BATCH_SIZE x CONTEXT_WINDOW x EMBEDDING_DIM)\n",
    "    \"\"\"\n",
    "    def __init__(self, config):\n",
    "        super().__init__()\n",
    "        self.config = config\n",
    "\n",
    "        if config['d_model'] % 2 != 0:\n",
    "            raise ValueError(\"d_model must be divisible by 2\")\n",
    "        self.w_q = torch.randn(config['d_model'], config['d_model'], requires_grad=True)\n",
    "        self.w_k = torch.randn(config['d_model'], config['d_model'], requires_grad=True)\n",
    "        self.w_v = torch.randn(config['d_model'], config['d_model'], requires_grad=True)\n",
    "        self.register_buffer(\"tril\", torch.tril(torch.ones(config['context_window'], config['context_window']))) # mask\n",
    "        \n",
    "    def get_rotary_matrix(self, x):\n",
    "        b, m, d = x.shape\n",
    "        R = torch.zeros((d, d, m))\n",
    "        for position in range(m):\n",
    "            for i in range(d//2):\n",
    "                theta = 10000. ** (-2.*(i - 1) / d)\n",
    "                m_theta = position * theta\n",
    "                R[2*i,2*i, position] = np.cos(m_theta)\n",
    "                R[2*i,2*i+1, position] = - np.sin(m_theta)\n",
    "                R[2*i+1,2*i, position] = np.sin(m_theta)\n",
    "                R[2*i+1,2*i+1, position] = np.cos(m_theta)\n",
    "        return R\n",
    "\n",
    "    def forward(self, x):\n",
    "        \"\"\"\n",
    "        x: [BATCH_SIZE x CONTEXT_WINDOW x EMBEDDING_DIM]\n",
    "        out: [BATCH_SIZE x CONTEXT_WINDOW x EMBEDDING_DIM]\n",
    "        \"\"\"\n",
    "        b, m, d = x.shape\n",
    "        R = self.get_rotary_matrix(x) # [d x d x m]\n",
    "\n",
    "        q_rotated_query_weight = self.w_q @ R # [d x d x m]\n",
    "        q = q_rotated_query_weight.view(m, d, d) @ x.view(m, d, b)\n",
    "        q = q.view(b, m, d)\n",
    "\n",
    "        k_rotated_query_weight = self.w_k @ R # [d x d x m]\n",
    "        k = k_rotated_query_weight.view(m, d, d) @ x.view(m, d, b)\n",
    "        k = k.view(b, m, d)\n",
    "        \n",
    "        B = (q @ k.transpose(1,2)) / np.sqrt(self.config['d_model'])\n",
    "        mask = B.masked_fill(self.tril[:m, :m] == 0, float(\"-inf\"))\n",
    "        a = F.softmax(mask, dim=-1) # attention\n",
    "        v = x @ self.w_v \n",
    "        out = a @ v\n",
    "        return out\n",
    "\n",
    "\n",
    "config = {\n",
    "    \"batch_size\": 3,\n",
    "    \"context_window\": 10,\n",
    "    \"d_model\": 128,\n",
    "}\n",
    "r = MaskedRotarySelfAttentionHead(config)\n",
    "batch = torch.randn((3, 10, config['d_model']))\n",
    "\n",
    "r(batch).shape"
   ]
  },
  {
   "cell_type": "code",
   "execution_count": 200,
   "metadata": {},
   "outputs": [
    {
     "data": {
      "image/png": "[encoded data removed]",
      "text/plain": [
       "<Figure size 4000x500 with 20 Axes>"
      ]
     },
     "metadata": {},
     "output_type": "display_data"
    }
   ],
   "source": [
    "config = {\n",
    "    \"batch_size\": 3,\n",
    "    \"context_window\": 20,\n",
    "    \"d_model\": 16,\n",
    "}\n",
    "r = MaskedRotarySelfAttentionHead(config)\n",
    "batch = torch.randn((3, 20, config['d_model']))\n",
    "\n",
    "R = r.get_rotary_matrix(batch)\n",
    "fig, ax = plt.subplots(1, R.shape[-1], figsize=(R.shape[-1] * 2, 5))\n",
    "for i in range(R.shape[-1]):\n",
    "    ax[i].imshow(R[:, :, i].detach().numpy())\n",
    "    ax[i].set_title(f'Positional rotation at {i} position')"
   ]
  },
  {
   "cell_type": "code",
   "execution_count": 87,
   "metadata": {},
   "outputs": [
    {
     "data": {
      "text/plain": [
       "<matplotlib.colorbar.Colorbar at 0x16b507390>"
      ]
     },
     "execution_count": 87,
     "metadata": {},
     "output_type": "execute_result"
    },
    {
     "data": {
      "image/png": "[encoded data removed]",
      "text/plain": [
       "<Figure size 640x480 with 2 Axes>"
      ]
     },
     "metadata": {},
     "output_type": "display_data"
    }
   ],
   "source": [
    "config = {\n",
    "    \"batch_size\": 3,\n",
    "    \"context_window\": 10,\n",
    "    \"d_model\": 16,\n",
    "}\n",
    "r = MaskedRotarySelfAttentionHead(config)\n",
    "batch = torch.randn((3, 10, config['d_model']))\n",
    "\n",
    "R = r.get_rotary_matrix(batch)\n",
    "plt.imshow(R[...,-1].detach().numpy())\n",
    "plt.colorbar()"
   ]
  },
  {
   "cell_type": "code",
   "execution_count": 88,
   "metadata": {},
   "outputs": [],
   "source": [
    "config = {\n",
    "    \"batch_size\": 1,\n",
    "    \"context_window\": 10,\n",
    "    \"d_model\": 16,\n",
    "}\n",
    "r = MaskedRotarySelfAttentionHead(config)\n",
    "batch = torch.randn((1, 10, config['d_model']))\n",
    "\n",
    "R = r.get_rotary_matrix(batch)\n",
    "b, m, d = batch.shape\n",
    "\n",
    "q_rotated_query_weight = r.w_q @ R # [d x d x m]\n",
    "q = q_rotated_query_weight.view(m, d, d) @ batch.view(m, d, b)\n",
    "q = q.view(b, m, d)\n",
    "\n",
    "k_rotated_query_weight = r.w_k @ R # [d x d x m]\n",
    "k = k_rotated_query_weight.view(m, d, d) @ batch.view(m, d, b)\n",
    "k = k.view(b, m, d)\n",
    "\n",
    "B = (q @ k.transpose(1,2)) / np.sqrt(r.config['d_model'])\n",
    "mask = B.masked_fill(r.tril[:m, :m] == 0, float(\"-inf\"))\n",
    "a = F.softmax(mask, dim=-1) # attention\n",
    "v = batch @ r.w_v \n",
    "out = a @ v"
   ]
  },
  {
   "cell_type": "code",
   "execution_count": 89,
   "metadata": {},
   "outputs": [
    {
     "data": {
      "text/plain": [
       "torch.Size([1, 1, 128])"
      ]
     },
     "execution_count": 89,
     "metadata": {},
     "output_type": "execute_result"
    }
   ],
   "source": [
    "class MaskedRotaryNultiHeadedAttention(nn.Module):\n",
    "    def __init__(self, config):\n",
    "        super().__init__()\n",
    "        self.config = config\n",
    "        self.heads = nn.ModuleList([\n",
    "            MaskedRotarySelfAttentionHead(config) for _ in range(config[\"n_heads\"])\n",
    "            nn.Attention(config[\"d_model\"], config[\"d_model\"], config[\"d_model\"]) for _ in range(config[\"n_heads\"])\n",
    "        ])\n",
    "        self.linear = nn.Linear(config[\"n_heads\"] * config[\"d_model\"], config[\"d_model\"])\n",
    "        self.dropout = nn.Dropout(0.1)\n",
    "\n",
    "\n",
    "    def forward(self, x):\n",
    "        out = torch.cat([head(x) for head in self.heads], dim=-1)\n",
    "        out = self.dropout(self.linear(out))\n",
    "        return out\n",
    "\n",
    "config = {\n",
    "    \"n_heads\": 8,\n",
    "    \"d_model\": 128,\n",
    "    \"batch_size\": 32,\n",
    "    \"context_window\": 16,\n",
    "}\n",
    "\n",
    "batch = torch.randn((1, 1, config['d_model']))\n",
    "m = MaskedRotaryNultiHeadedAttention(config)\n",
    "\n",
    "m(batch).shape"
   ]
  },
  {
   "cell_type": "code",
   "execution_count": 90,
   "metadata": {},
   "outputs": [],
   "source": [
    "class SwiGLU(nn.Module):\n",
    "    \"\"\"\n",
    "    Swish-Gated Linear Unit\n",
    "    https://arxiv.org/pdf/2002.05202v1.pdf\n",
    "    \"\"\"\n",
    "    def __init__(self, config):\n",
    "        super().__init__()\n",
    "        self.config = config\n",
    "        self.linear_gate = nn.Linear(config['d_model'], config['d_model'])\n",
    "        self.linear = nn.Linear(config['d_model'], config['d_model'])\n",
    "        self.beta = torch.randn(1, requires_grad=True)\n",
    "\n",
    "    def forward(self, x): \n",
    "        swish_gate = self.linear_gate(x) * torch.sigmoid(self.beta * self.linear_gate(x))\n",
    "        out = swish_gate * self.linear(x)\n",
    "        return out"
   ]
  },
  {
   "cell_type": "code",
   "execution_count": 91,
   "metadata": {},
   "outputs": [
    {
     "data": {
      "text/plain": [
       "<matplotlib.image.AxesImage at 0x16c55c590>"
      ]
     },
     "execution_count": 91,
     "metadata": {},
     "output_type": "execute_result"
    },
    {
     "data": {
      "image/png": "[encoded data removed]",
      "text/plain": [
       "<Figure size 1000x500 with 2 Axes>"
      ]
     },
     "metadata": {},
     "output_type": "display_data"
    }
   ],
   "source": [
    "config = {\n",
    "    \"n_heads\": 8,\n",
    "    \"d_model\": 16,\n",
    "    \"batch_size\": 3,\n",
    "    \"context_window\": 10,\n",
    "}\n",
    "s = SwiGLU(config)\n",
    "batch = torch.randn(config['batch_size'], config['context_window'], config[\"d_model\"])\n",
    "out = s(batch)\n",
    "out.shape\n",
    "fig, ax = plt.subplots(1, 2, figsize=(10, 5))\n",
    "ax[0].imshow(batch[0].detach().numpy())\n",
    "ax[1].imshow(out[0].detach().numpy())"
   ]
  },
  {
   "cell_type": "code",
   "execution_count": 92,
   "metadata": {},
   "outputs": [],
   "source": [
    "class RMSNorm(nn.Module):\n",
    "    def __init__(self, d, p=-1., eps=1e-8, bias=False):\n",
    "        \"\"\"\n",
    "            Root Mean Square Layer Normalization\n",
    "        :param d: model size\n",
    "        :param p: partial RMSNorm, valid value [0, 1], default -1.0 (disabled)\n",
    "        :param eps:  epsilon value, default 1e-8\n",
    "        :param bias: whether use bias term for RMSNorm, disabled by\n",
    "            default because RMSNorm doesn't enforce re-centering invariance.\n",
    "\n",
    "        https://github.com/bzhangGo/rmsnorm/blob/master/rmsnorm_torch.py\n",
    "        \"\"\"\n",
    "        super(RMSNorm, self).__init__()\n",
    "\n",
    "        self.eps = eps\n",
    "        self.d = d\n",
    "        self.p = p\n",
    "        self.bias = bias\n",
    "\n",
    "        self.scale = nn.Parameter(torch.ones(d))\n",
    "        self.register_parameter(\"scale\", self.scale)\n",
    "\n",
    "        if self.bias:\n",
    "            self.offset = nn.Parameter(torch.zeros(d))\n",
    "            self.register_parameter(\"offset\", self.offset)\n",
    "\n",
    "    def forward(self, x):\n",
    "        if self.p < 0. or self.p > 1.:\n",
    "            norm_x = x.norm(2, dim=-1, keepdim=True)\n",
    "            d_x = self.d\n",
    "        else:\n",
    "            partial_size = int(self.d * self.p)\n",
    "            partial_x, _ = torch.split(x, [partial_size, self.d - partial_size], dim=-1)\n",
    "\n",
    "            norm_x = partial_x.norm(2, dim=-1, keepdim=True)\n",
    "            d_x = partial_size\n",
    "\n",
    "        rms_x = norm_x * d_x ** (-1. / 2)\n",
    "        x_normed = x / (rms_x + self.eps)\n",
    "\n",
    "        if self.bias:\n",
    "            return self.scale * x_normed + self.offset\n",
    "\n",
    "        return self.scale * x_normed"
   ]
  },
  {
   "cell_type": "code",
   "execution_count": 192,
   "metadata": {},
   "outputs": [],
   "source": [
    "config = {\n",
    "    \"n_heads\": 8,\n",
    "    \"d_model\": 512,\n",
    "    \"batch_size\": 3,\n",
    "    \"context_window\": 10,\n",
    "}\n",
    "\n",
    "class LlamaLayer(nn.Module):\n",
    "    def __init__(self, config):\n",
    "        super().__init__()\n",
    "        self.config = config\n",
    "\n",
    "        self.prenorm = RMSNorm(config['d_model'])\n",
    "\n",
    "        self.wq = nn.Linear(config['d_model'], config['d_model'])\n",
    "        self.wk = nn.Linear(config['d_model'], config['d_model'])\n",
    "        self.wv = nn.Linear(config['d_model'], config['d_model'])\n",
    "\n",
    "        self.multihead = nn.MultiheadAttention(\n",
    "            config['d_model'], config['n_heads'], batch_first=True\n",
    "        )\n",
    "\n",
    "        self.ffn = nn.Sequential(\n",
    "            RMSNorm(config['d_model']),\n",
    "            nn.Linear(config['d_model'], config['d_model']),\n",
    "            SwiGLU(config),\n",
    "        )\n",
    "\n",
    "    def forward(self, x):\n",
    "        b,m,d = x.shape\n",
    "        prenorm = self.prenorm(x)\n",
    "        q = self.wq(x)\n",
    "        k = self.wk(x)\n",
    "        v = self.wv(x)\n",
    "\n",
    "        def look_ahead_mask(tgt_len:int, src_len:int) -> torch.FloatTensor:  \n",
    "            \"\"\" this will be applied before sigmoid function, so '-inf' for proper positions needed. \n",
    "            look-ahead masking is used for decoder in transformer, \n",
    "            which prevents future target label affecting past-step target labels. \"\"\"\n",
    "            mask = torch.triu(torch.ones(tgt_len, src_len), diagonal=1)\n",
    "            mask[mask.bool()] = -float('inf')\n",
    "            return mask\n",
    "\n",
    "        output, weights = self.multihead(q, k, v, attn_mask=look_ahead_mask(m,m), is_causal=True)\n",
    "        out = output + self.ffn(output)\n",
    "\n",
    "        return out\n",
    "\n",
    "m = LlamaLayer(config)\n",
    "out = m(batch)"
   ]
  },
  {
   "cell_type": "code",
   "execution_count": null,
   "metadata": {},
   "outputs": [],
   "source": [
    "from collections import OrderedDict\n",
    "\n",
    "class Llama(nn.Module):\n",
    "    def __init__(self, config):\n",
    "        super().__init__()\n",
    "        self.config = config\n",
    "        self.embedding = nn.Embedding(config['vocab_size'], config['d_model'])\n",
    "        self.layers = nn.Sequential(OrderedDict([\n",
    "            (f\"llama_layer_{i}\", LlamaLayer(config)) for i in range(config['n_layers'])\n",
    "        ]))\n",
    "        self.linear = nn.Linear(config['d_model'], config['vocab_size'])\n",
    "\n",
    "        # debugging rotary attention\n",
    "        self.position_embedding = nn.Embedding(config['context_window'], config['d_model'])\n",
    "\n",
    "    def forward(self, idx, targets=None):\n",
    "        \"\"\"\n",
    "        idx: [batch_size, seq_len]\n",
    "        targets: [batch_size, seq_len]\n",
    "        \"\"\"\n",
    "        b, m = idx.shape\n",
    "\n",
    "        embeds = self.embedding(idx) + self.position_embedding(torch.arange(m)).unsqueeze(0) # [batch_size, seq_len, hidden_size]\n",
    "        out = self.layers(embeds) # [batch_size, seq_len, d_model]\n",
    "        logits = self.linear(out) # [batch_size, seq_len, vocab_size]\n",
    "        logits = F.softmax(logits, dim=-1) # [batch_size, seq_len, vocab_size]\n",
    "\n",
    "        if targets is None:\n",
    "            return logits\n",
    "        \n",
    "        else:\n",
    "            loss = F.cross_entropy(logits.view(-1, self.config['vocab_size']), targets.view(-1))\n",
    "            return logits, loss\n",
    "\n",
    "    def generate(self, idx, max_len=20):\n",
    "        \"\"\"\n",
    "        idx: [batch_size, seq_len]\n",
    "        \"\"\"\n",
    "        for i in range(max_len):\n",
    "            logits = self(idx[:, -self.config['context_window']:])\n",
    "            pred = torch.argmax(logits, dim=-1)[..., -1:]\n",
    "            idx = torch.cat([idx, pred], dim=-1)\n",
    "\n",
    "        return idx"
   ]
  },
  {
   "cell_type": "code",
   "execution_count": 170,
   "metadata": {},
   "outputs": [
    {
     "name": "stdout",
     "output_type": "stream",
     "text": [
      "680257\n"
     ]
    },
    {
     "data": {
      "text/plain": [
       "torch.Size([32, 16, 65])"
      ]
     },
     "execution_count": 170,
     "metadata": {},
     "output_type": "execute_result"
    }
   ],
   "source": [
    "config = {\n",
    "    \"n_heads\": 8,\n",
    "    \"d_model\": 128,\n",
    "    \"batch_size\": 32,\n",
    "    \"n_layers\": 4,\n",
    "    \"context_window\": 16,\n",
    "    \"vocab_size\": len(vocab),\n",
    "    \"epochs\": 1000,\n",
    "    \"log_interval\": 10,\n",
    "}\n",
    "\n",
    "model = Llama(config)\n",
    "total_params = sum([p.numel() for p in model.parameters()])\n",
    "print(total_params)\n",
    "\n",
    "xb, yb = get_batches(dataset, 'train', config['batch_size'], config['context_window'])\n",
    "logits, loss = model(xb, yb)\n",
    "logits.shape"
   ]
  },
  {
   "cell_type": "code",
   "execution_count": 186,
   "metadata": {},
   "outputs": [
    {
     "name": "stdout",
     "output_type": "stream",
     "text": [
      "Epoch 10 | Loss 4.170 | Time 0.459 | ETA in seconds 45.468\n",
      "embedding.weight | grad zero 0.262 | grad near zero 1.000\n",
      "layers.llama_layer_0.wq.weight | grad zero 0.000 | grad near zero 1.000\n",
      "layers.llama_layer_0.wq.bias | grad zero 0.000 | grad near zero 1.000\n",
      "layers.llama_layer_0.wk.weight | grad zero 0.000 | grad near zero 1.000\n",
      "layers.llama_layer_0.wk.bias | grad zero 0.000 | grad near zero 1.000\n",
      "layers.llama_layer_0.wv.weight | grad zero 0.000 | grad near zero 1.000\n",
      "layers.llama_layer_0.wv.bias | grad zero 0.000 | grad near zero 1.000\n",
      "layers.llama_layer_0.multihead.in_proj_weight | grad zero 0.000 | grad near zero 1.000\n",
      "layers.llama_layer_0.multihead.in_proj_bias | grad zero 0.000 | grad near zero 1.000\n",
      "layers.llama_layer_0.multihead.out_proj.weight | grad zero 0.000 | grad near zero 1.000\n",
      "layers.llama_layer_0.multihead.out_proj.bias | grad zero 0.000 | grad near zero 1.000\n",
      "layers.llama_layer_0.ffn.0.scale | grad zero 0.000 | grad near zero 1.000\n",
      "layers.llama_layer_0.ffn.1.weight | grad zero 0.000 | grad near zero 1.000\n",
      "layers.llama_layer_0.ffn.1.bias | grad zero 0.000 | grad near zero 1.000\n",
      "layers.llama_layer_0.ffn.2.linear_gate.weight | grad zero 0.000 | grad near zero 1.000\n",
      "layers.llama_layer_0.ffn.2.linear_gate.bias | grad zero 0.000 | grad near zero 1.000\n",
      "layers.llama_layer_0.ffn.2.linear.weight | grad zero 0.000 | grad near zero 1.000\n",
      "layers.llama_layer_0.ffn.2.linear.bias | grad zero 0.000 | grad near zero 1.000\n",
      "layers.llama_layer_1.wq.weight | grad zero 0.000 | grad near zero 1.000\n",
      "layers.llama_layer_1.wq.bias | grad zero 0.000 | grad near zero 1.000\n",
      "layers.llama_layer_1.wk.weight | grad zero 0.000 | grad near zero 1.000\n",
      "layers.llama_layer_1.wk.bias | grad zero 0.000 | grad near zero 1.000\n",
      "layers.llama_layer_1.wv.weight | grad zero 0.000 | grad near zero 1.000\n",
      "layers.llama_layer_1.wv.bias | grad zero 0.000 | grad near zero 1.000\n",
      "layers.llama_layer_1.multihead.in_proj_weight | grad zero 0.000 | grad near zero 1.000\n",
      "layers.llama_layer_1.multihead.in_proj_bias | grad zero 0.000 | grad near zero 1.000\n",
      "layers.llama_layer_1.multihead.out_proj.weight | grad zero 0.000 | grad near zero 1.000\n",
      "layers.llama_layer_1.multihead.out_proj.bias | grad zero 0.000 | grad near zero 1.000\n",
      "layers.llama_layer_1.ffn.0.scale | grad zero 0.000 | grad near zero 1.000\n",
      "layers.llama_layer_1.ffn.1.weight | grad zero 0.000 | grad near zero 1.000\n",
      "layers.llama_layer_1.ffn.1.bias | grad zero 0.000 | grad near zero 1.000\n",
      "layers.llama_layer_1.ffn.2.linear_gate.weight | grad zero 0.000 | grad near zero 1.000\n",
      "layers.llama_layer_1.ffn.2.linear_gate.bias | grad zero 0.000 | grad near zero 1.000\n",
      "layers.llama_layer_1.ffn.2.linear.weight | grad zero 0.000 | grad near zero 1.000\n",
      "layers.llama_layer_1.ffn.2.linear.bias | grad zero 0.000 | grad near zero 1.000\n",
      "layers.llama_layer_2.wq.weight | grad zero 0.000 | grad near zero 1.000\n",
      "layers.llama_layer_2.wq.bias | grad zero 0.000 | grad near zero 1.000\n",
      "layers.llama_layer_2.wk.weight | grad zero 0.000 | grad near zero 1.000\n",
      "layers.llama_layer_2.wk.bias | grad zero 0.000 | grad near zero 1.000\n",
      "layers.llama_layer_2.wv.weight | grad zero 0.000 | grad near zero 1.000\n",
      "layers.llama_layer_2.wv.bias | grad zero 0.000 | grad near zero 1.000\n",
      "layers.llama_layer_2.multihead.in_proj_weight | grad zero 0.000 | grad near zero 1.000\n",
      "layers.llama_layer_2.multihead.in_proj_bias | grad zero 0.000 | grad near zero 1.000\n",
      "layers.llama_layer_2.multihead.out_proj.weight | grad zero 0.000 | grad near zero 1.000\n",
      "layers.llama_layer_2.multihead.out_proj.bias | grad zero 0.000 | grad near zero 1.000\n",
      "layers.llama_layer_2.ffn.0.scale | grad zero 0.000 | grad near zero 1.000\n",
      "layers.llama_layer_2.ffn.1.weight | grad zero 0.000 | grad near zero 1.000\n",
      "layers.llama_layer_2.ffn.1.bias | grad zero 0.000 | grad near zero 1.000\n",
      "layers.llama_layer_2.ffn.2.linear_gate.weight | grad zero 0.000 | grad near zero 1.000\n",
      "layers.llama_layer_2.ffn.2.linear_gate.bias | grad zero 0.000 | grad near zero 1.000\n",
      "layers.llama_layer_2.ffn.2.linear.weight | grad zero 0.000 | grad near zero 1.000\n",
      "layers.llama_layer_2.ffn.2.linear.bias | grad zero 0.000 | grad near zero 1.000\n",
      "layers.llama_layer_3.wq.weight | grad zero 0.000 | grad near zero 1.000\n",
      "layers.llama_layer_3.wq.bias | grad zero 0.000 | grad near zero 1.000\n",
      "layers.llama_layer_3.wk.weight | grad zero 0.000 | grad near zero 1.000\n",
      "layers.llama_layer_3.wk.bias | grad zero 0.000 | grad near zero 1.000\n",
      "layers.llama_layer_3.wv.weight | grad zero 0.000 | grad near zero 1.000\n",
      "layers.llama_layer_3.wv.bias | grad zero 0.000 | grad near zero 1.000\n",
      "layers.llama_layer_3.multihead.in_proj_weight | grad zero 0.000 | grad near zero 1.000\n",
      "layers.llama_layer_3.multihead.in_proj_bias | grad zero 0.000 | grad near zero 0.990\n",
      "layers.llama_layer_3.multihead.out_proj.weight | grad zero 0.000 | grad near zero 1.000\n",
      "layers.llama_layer_3.multihead.out_proj.bias | grad zero 0.000 | grad near zero 0.609\n",
      "layers.llama_layer_3.ffn.0.scale | grad zero 0.000 | grad near zero 1.000\n",
      "layers.llama_layer_3.ffn.1.weight | grad zero 0.000 | grad near zero 1.000\n",
      "layers.llama_layer_3.ffn.1.bias | grad zero 0.000 | grad near zero 1.000\n",
      "layers.llama_layer_3.ffn.2.linear_gate.weight | grad zero 0.000 | grad near zero 1.000\n",
      "layers.llama_layer_3.ffn.2.linear_gate.bias | grad zero 0.000 | grad near zero 1.000\n",
      "layers.llama_layer_3.ffn.2.linear.weight | grad zero 0.000 | grad near zero 1.000\n",
      "layers.llama_layer_3.ffn.2.linear.bias | grad zero 0.000 | grad near zero 1.000\n",
      "linear.weight | grad zero 0.000 | grad near zero 0.996\n",
      "linear.bias | grad zero 0.000 | grad near zero 0.969\n"
     ]
    }
   ],
   "source": [
    "import time\n",
    "\n",
    "\n",
    "@torch.no_grad()  # don't compute gradients for this function\n",
    "def evaluate_loss():\n",
    "    out = {}\n",
    "    model.eval()\n",
    "    for split in [\"train\", \"val\"]:\n",
    "        losses = []\n",
    "        for _ in range(10):\n",
    "            xb, yb = get_batches(dataset, split, config['batch_size'], config['context_window'])\n",
    "            _, loss = model(xb, yb)\n",
    "            losses.append(loss.item())\n",
    "        out[split] = np.mean(losses)\n",
    "    model.train()\n",
    "    return out\n",
    "\n",
    "# train\n",
    "optimizer = torch.optim.Adam(\n",
    "    model.parameters(), \n",
    "    # betas=(.9, .95), \n",
    "    # weight_decay=.1, \n",
    "    # eps=1e-9, \n",
    "    lr=3e-4\n",
    ")\n",
    "scheduler = torch.optim.lr_scheduler.CosineAnnealingLR(optimizer, 300, eta_min=1e-5)\n",
    "\n",
    "start_time = time.time()\n",
    "losses = []\n",
    "\n",
    "for epoch in range(config['epochs']):\n",
    "    optimizer.zero_grad()\n",
    "    \n",
    "    xs, ys = get_batches(dataset, 'train', config['batch_size'], config['context_window'])\n",
    "    logits, loss = model(xs, targets=ys)\n",
    "    loss.backward()\n",
    "\n",
    "    nn.utils.clip_grad_norm_(model.parameters(), 1.0)\n",
    "    optimizer.step()\n",
    "    # scheduler.step()\n",
    "\n",
    "    if epoch % config['log_interval'] == 0 and epoch > 0:\n",
    "        batch_time = time.time() - start_time\n",
    "        losses += [evaluate_loss()]\n",
    "        print(f\"Epoch {epoch} | Loss {loss.item():.3f} | Time {batch_time:.3f} | ETA in seconds {batch_time * (config['epochs'] - epoch)/config['log_interval'] :.3f}\")\n",
    "        start_time = time.time()\n",
    "    \n",
    "        break\n",
    "\n",
    "for name, param in model.named_parameters():\n",
    "    # if the grad is being tracked, print the grad norm and param norm\n",
    "    if param.grad is not None:\n",
    "        print(f\"{name} | grad zero {torch.sum(param.grad == 0).item()/param.grad.numel():.3f} | grad near zero {torch.sum(torch.abs(param.grad) < 1e-3).item()/param.grad.numel():.3f}\")"
   ]
  },
  {
   "cell_type": "code",
   "execution_count": null,
   "metadata": {},
   "outputs": [],
   "source": []
  }
 ],
 "metadata": {
  "kernelspec": {
   "display_name": ".llama",
   "language": "python",
   "name": "python3"
  },
  "language_info": {
   "codemirror_mode": {
    "name": "ipython",
    "version": 3
   },
   "file_extension": ".py",
   "mimetype": "text/x-python",
   "name": "python",
   "nbconvert_exporter": "python",
   "pygments_lexer": "ipython3",
   "version": "3.11.4"
  },
  "orig_nbformat": 4
 },
 "nbformat": 4,
 "nbformat_minor": 2
}
