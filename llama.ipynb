{
 "cells": [
  {
   "cell_type": "code",
   "execution_count": 1,
   "metadata": {},
   "outputs": [],
   "source": [
    "import torch\n",
    "from torch import nn\n",
    "from torch.nn import functional as F\n",
    "import numpy as np\n",
    "\n",
    "device = torch.device(\"mps\")"
   ]
  },
  {
   "cell_type": "code",
   "execution_count": 2,
   "metadata": {},
   "outputs": [
    {
     "name": "stdout",
     "output_type": "stream",
     "text": [
      "vocab size: 65\n"
     ]
    }
   ],
   "source": [
    "# simple tokenization by characters\n",
    "\n",
    "lines = open('./input.txt', 'r').read()\n",
    "\n",
    "vocab = list(set(lines))\n",
    "itos = {i:ch for i, ch in enumerate(vocab)}\n",
    "stoi = {ch:i for i, ch in enumerate(vocab)}\n",
    "\n",
    "def encode(s):\n",
    "    return [stoi[ch] for ch in s]\n",
    "\n",
    "def decode(l):\n",
    "    return ''.join([itos[i] for i in l])\n",
    "\n",
    "print('vocab size:', len(vocab))"
   ]
  },
  {
   "cell_type": "code",
   "execution_count": 3,
   "metadata": {},
   "outputs": [
    {
     "data": {
      "text/plain": [
       "tensor([36, 60, 42,  ..., 17, 11, 35], device='mps:0', dtype=torch.int8)"
      ]
     },
     "execution_count": 3,
     "metadata": {},
     "output_type": "execute_result"
    }
   ],
   "source": [
    "dataset = torch.tensor(encode(lines), dtype=torch.int8, device=device)\n",
    "dataset"
   ]
  },
  {
   "attachments": {},
   "cell_type": "markdown",
   "metadata": {},
   "source": [
    "We want to run training with minibatches of size 8."
   ]
  },
  {
   "cell_type": "code",
   "execution_count": 4,
   "metadata": {},
   "outputs": [],
   "source": [
    "BATCH_SIZE = 8\n",
    "CONTEXT_WINDOW = 32\n",
    "\n",
    "config = {\n",
    "    \"d_model\": 100,\n",
    "    \"vocab_size\": len(vocab),\n",
    "    \"max_len\": CONTEXT_WINDOW,\n",
    "}\n",
    "\n",
    "def get_batches(data, batch_size, context_window):\n",
    "    xs = torch.zeros(batch_size, context_window, device=device, dtype=torch.long)\n",
    "    ys = torch.zeros(batch_size, context_window, device=device, dtype=torch.long)\n",
    "\n",
    "    # pick random starting points\n",
    "    starts = torch.randint(0, len(data) - context_window - 1, (batch_size,))\n",
    "    for item, start in enumerate(starts):\n",
    "        \n",
    "        xs[item] += data[start:start+context_window]\n",
    "        ys[item] += data[start+1:start+context_window+1]\n",
    "    return xs, ys\n",
    "    \n",
    "\n",
    "xs, ys = get_batches(dataset, BATCH_SIZE, CONTEXT_WINDOW)"
   ]
  },
  {
   "cell_type": "code",
   "execution_count": 150,
   "metadata": {},
   "outputs": [
    {
     "ename": "NameError",
     "evalue": "name 'mask' is not defined",
     "output_type": "error",
     "traceback": [
      "\u001b[0;31m---------------------------------------------------------------------------\u001b[0m",
      "\u001b[0;31mNameError\u001b[0m                                 Traceback (most recent call last)",
      "Cell \u001b[0;32mIn[150], line 36\u001b[0m\n\u001b[1;32m     31\u001b[0m m \u001b[39m=\u001b[39m \u001b[39m0\u001b[39m\n\u001b[1;32m     33\u001b[0m rotary \u001b[39m=\u001b[39m RotaryEmbedding({\n\u001b[1;32m     34\u001b[0m     \u001b[39m\"\u001b[39m\u001b[39md_model\u001b[39m\u001b[39m\"\u001b[39m: d,\n\u001b[1;32m     35\u001b[0m })\n\u001b[0;32m---> 36\u001b[0m gg \u001b[39m=\u001b[39m rotary(torch\u001b[39m.\u001b[39;49marange(\u001b[39m0\u001b[39;49m, \u001b[39m10\u001b[39;49m), m)\n\u001b[1;32m     37\u001b[0m \u001b[39mprint\u001b[39m(gg)\n\u001b[1;32m     38\u001b[0m \u001b[39mprint\u001b[39m(gg[\u001b[39m2\u001b[39m\u001b[39m*\u001b[39mi:\u001b[39m2\u001b[39m\u001b[39m*\u001b[39mi\u001b[39m+\u001b[39m\u001b[39m2\u001b[39m, \u001b[39m2\u001b[39m\u001b[39m*\u001b[39mi:\u001b[39m2\u001b[39m\u001b[39m*\u001b[39mi\u001b[39m+\u001b[39m\u001b[39m2\u001b[39m])\n",
      "File \u001b[0;32m~/Desktop/projects/llama/.llama/lib/python3.11/site-packages/torch/nn/modules/module.py:1501\u001b[0m, in \u001b[0;36mModule._call_impl\u001b[0;34m(self, *args, **kwargs)\u001b[0m\n\u001b[1;32m   1496\u001b[0m \u001b[39m# If we don't have any hooks, we want to skip the rest of the logic in\u001b[39;00m\n\u001b[1;32m   1497\u001b[0m \u001b[39m# this function, and just call forward.\u001b[39;00m\n\u001b[1;32m   1498\u001b[0m \u001b[39mif\u001b[39;00m \u001b[39mnot\u001b[39;00m (\u001b[39mself\u001b[39m\u001b[39m.\u001b[39m_backward_hooks \u001b[39mor\u001b[39;00m \u001b[39mself\u001b[39m\u001b[39m.\u001b[39m_backward_pre_hooks \u001b[39mor\u001b[39;00m \u001b[39mself\u001b[39m\u001b[39m.\u001b[39m_forward_hooks \u001b[39mor\u001b[39;00m \u001b[39mself\u001b[39m\u001b[39m.\u001b[39m_forward_pre_hooks\n\u001b[1;32m   1499\u001b[0m         \u001b[39mor\u001b[39;00m _global_backward_pre_hooks \u001b[39mor\u001b[39;00m _global_backward_hooks\n\u001b[1;32m   1500\u001b[0m         \u001b[39mor\u001b[39;00m _global_forward_hooks \u001b[39mor\u001b[39;00m _global_forward_pre_hooks):\n\u001b[0;32m-> 1501\u001b[0m     \u001b[39mreturn\u001b[39;00m forward_call(\u001b[39m*\u001b[39;49margs, \u001b[39m*\u001b[39;49m\u001b[39m*\u001b[39;49mkwargs)\n\u001b[1;32m   1502\u001b[0m \u001b[39m# Do not call functions when jit is used\u001b[39;00m\n\u001b[1;32m   1503\u001b[0m full_backward_hooks, non_full_backward_hooks \u001b[39m=\u001b[39m [], []\n",
      "Cell \u001b[0;32mIn[150], line 27\u001b[0m, in \u001b[0;36mRotaryEmbedding.forward\u001b[0;34m(self, x, m)\u001b[0m\n\u001b[1;32m     24\u001b[0m \u001b[39mdef\u001b[39;00m \u001b[39mforward\u001b[39m(\u001b[39mself\u001b[39m, x, m):\n\u001b[0;32m---> 27\u001b[0m     \u001b[39mreturn\u001b[39;00m mask\n",
      "\u001b[0;31mNameError\u001b[0m: name 'mask' is not defined"
     ]
    }
   ],
   "source": [
    "class RotaryEmbedding(nn.Module):\n",
    "    \"\"\"\n",
    "    Rotary embeddings.\n",
    "\n",
    "    Input: (BATCH_SIZE x CONTEXT_WINDOW)\n",
    "    Output: (BATCH_SIZE x CONTEXT_WINDOW x EMBEDDING_DIM)\n",
    "    \"\"\"\n",
    "    def __init__(self, config):\n",
    "        super().__init__()\n",
    "        self.config = config\n",
    "        self.r = torch.zeros((self.config['d_model'], self.config['d_model']))\n",
    "        \n",
    "        for i in range(self.config['d_model']//2):\n",
    "            theta = 10000. ** (-2.*(i - 1) / self.config['d_model'])\n",
    "            self.r[2*i,2*i] = np.cos(m * theta)\n",
    "            self.r[2*i,2*i+1] = - np.sin(m * theta)\n",
    "            self.r[2*i+1,2*i] = np.sin(m * theta)\n",
    "            self.r[2*i+1,2*i+1] = np.cos(m * theta)\n",
    "\n",
    "        if config['d_model'] % 2 != 0:\n",
    "            raise ValueError(\"d_model must be divisible by 2\")\n",
    "\n",
    "    \n",
    "    def forward(self, x, m):\n",
    "        \"\"\"\n",
    "        x: (BATCH_SIZE x CONTEXT_WINDOW)\n",
    "        m: (EMBEDDING_DIM)\n",
    "        \"\"\"\n",
    "        x = x.unsqueeze(-1)\n",
    "        x = torch.cat([torch.sin(x @ self.r), torch.cos(x @ self.r)], dim=-1)\n",
    "        return x\n",
    "\n",
    "i = 0\n",
    "d = 10\n",
    "m = 0\n",
    "\n",
    "rotary = RotaryEmbedding({\n",
    "    \"d_model\": d,\n",
    "})\n",
    "gg = rotary(torch.arange(0, 10), m)\n",
    "print(gg)\n",
    "print(gg[2*i:2*i+2, 2*i:2*i+2])\n",
    "\n",
    "theta = 10000. ** (-2.*(i - 1) / d)\n",
    "g = np.array([ \n",
    "    np.cos(m * theta), -np.sin(m * theta), \n",
    "    np.sin(m * theta), np.cos(m * theta)\n",
    "]).reshape(2,2)\n",
    "\n",
    "print(g)"
   ]
  },
  {
   "cell_type": "code",
   "execution_count": null,
   "metadata": {},
   "outputs": [],
   "source": [
    "# Llama is transformer. what makes it different\n",
    "# prenormalization at each sub-layer using RMSNorm\n",
    "# SwiGLU activation function with 2/3*4d as dimension\n",
    "# Rotary embeddings instead of absolute positional embeddings\n",
    "class LlamaLayer(nn.Module):\n",
    "    \"\"\"\n",
    "    \"\"\"\n",
    "    def __init__(self, config = {\n",
    "        \"num_heads\": 5,\n",
    "        \"embed_dim\": 100, # how many dimensions in the word embedding\n",
    "    }):\n",
    "        super().__init__()\n",
    "        # multi attention head with pre-normalization\n",
    "        self.multihead_attention = nn.MultiheadAttention(**config)"
   ]
  },
  {
   "cell_type": "code",
   "execution_count": 44,
   "metadata": {},
   "outputs": [],
   "source": [
    "\n",
    "class Llama(nn.Module):\n",
    "    def __init__(self, config):\n",
    "        super().__init__()\n",
    "        self.config = config\n",
    "        self.embeddings = nn.Embedding(config.vocab_size, config.d_model)\n",
    "        self.pos_embeddings = nn.Embedding(config.max_len, config.d_model)\n",
    "        self.rotary_pos_embeddings = RotaryEmbedding(config.d_model)\n",
    "        self.layers = nn.ModuleList([LlamaLayer(config) for _ in range(config.num_layers)])\n",
    "        self.norm = RMSNorm(config.d_model)\n",
    "        self.fc = nn.Linear(config.d_model, config.vocab_size)\n",
    "\n",
    "    def forward(self, x, pos):\n",
    "        x = self.embeddings(x)\n",
    "        pos = self.pos_embeddings(pos)\n",
    "        x = x + pos\n",
    "        x = self.rotary_pos_embeddings(x)\n",
    "        for layer in self.layers:\n",
    "            x = layer(x)\n",
    "        x = self.norm(x)\n",
    "        x = self.fc(x)\n",
    "        return x"
   ]
  },
  {
   "cell_type": "code",
   "execution_count": null,
   "metadata": {},
   "outputs": [],
   "source": []
  }
 ],
 "metadata": {
  "kernelspec": {
   "display_name": ".llama",
   "language": "python",
   "name": "python3"
  },
  "language_info": {
   "codemirror_mode": {
    "name": "ipython",
    "version": 3
   },
   "file_extension": ".py",
   "mimetype": "text/x-python",
   "name": "python",
   "nbconvert_exporter": "python",
   "pygments_lexer": "ipython3",
   "version": "3.11.4"
  },
  "orig_nbformat": 4
 },
 "nbformat": 4,
 "nbformat_minor": 2
}
