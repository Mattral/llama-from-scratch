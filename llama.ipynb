{
 "cells": [
  {
   "cell_type": "code",
   "execution_count": 2,
   "metadata": {},
   "outputs": [],
   "source": [
    "import torch\n",
    "from torch import nn\n",
    "from torch.nn import functional as F\n",
    "import numpy as np\n",
    "\n",
    "device = torch.device(\"mps\")"
   ]
  },
  {
   "cell_type": "code",
   "execution_count": 3,
   "metadata": {},
   "outputs": [
    {
     "name": "stdout",
     "output_type": "stream",
     "text": [
      "vocab size: 65\n"
     ]
    }
   ],
   "source": [
    "# simple tokenization by characters\n",
    "\n",
    "lines = open('./input.txt', 'r').read()\n",
    "\n",
    "vocab = list(set(lines))\n",
    "itos = {i:ch for i, ch in enumerate(vocab)}\n",
    "stoi = {ch:i for i, ch in enumerate(vocab)}\n",
    "\n",
    "def encode(s):\n",
    "    return [stoi[ch] for ch in s]\n",
    "\n",
    "def decode(l):\n",
    "    return ''.join([itos[i] for i in l])\n",
    "\n",
    "print('vocab size:', len(vocab))"
   ]
  },
  {
   "cell_type": "code",
   "execution_count": 4,
   "metadata": {},
   "outputs": [
    {
     "data": {
      "text/plain": [
       "tensor([31, 21, 22,  ...,  8, 46, 54], dtype=torch.int8)"
      ]
     },
     "execution_count": 4,
     "metadata": {},
     "output_type": "execute_result"
    }
   ],
   "source": [
    "dataset = torch.tensor(encode(lines), dtype=torch.int8)\n",
    "dataset"
   ]
  },
  {
   "cell_type": "code",
   "execution_count": 5,
   "metadata": {},
   "outputs": [],
   "source": [
    "config = {\n",
    "    \"d_model\": 100,\n",
    "    \"vocab_size\": len(vocab),\n",
    "    'batch_size': 32,\n",
    "    'context_window': 10,\n",
    "}\n",
    "\n",
    "\n",
    "def get_batches(data, split, batch_size, context_window):\n",
    "    train, val, test = data[:int(.8 * len(data))], data[int(.8 * len(data)): int(.9 * len(data))], data[int(.9 * len(data)):]\n",
    "    \n",
    "    if split == 'train':\n",
    "        data = train\n",
    "    elif split == 'val':\n",
    "        data = val\n",
    "    \n",
    "    xs = torch.zeros(batch_size, context_window, dtype=torch.long)\n",
    "    ys = torch.zeros(batch_size, context_window, dtype=torch.long)\n",
    "\n",
    "    # pick random starting points\n",
    "    starts = torch.randint(0, len(data) - context_window - 1, (batch_size,))\n",
    "    for item, start in enumerate(starts):\n",
    "        \n",
    "        xs[item] += data[start:start+context_window]\n",
    "        ys[item] += data[start+1:start+context_window+1]\n",
    "    return xs, ys\n",
    "    \n",
    "xs, ys = get_batches(dataset, 'train', config['batch_size'], config['context_window'])"
   ]
  },
  {
   "cell_type": "code",
   "execution_count": 6,
   "metadata": {},
   "outputs": [
    {
     "data": {
      "text/plain": [
       "torch.Size([3, 10, 128])"
      ]
     },
     "execution_count": 6,
     "metadata": {},
     "output_type": "execute_result"
    }
   ],
   "source": [
    "class MaskedRotarySelfAttentionHead(nn.Module):\n",
    "    \"\"\"\n",
    "    Rotary embeddings.\n",
    "\n",
    "    Input: (BATCH_SIZE x CONTEXT_WINDOW)\n",
    "    Output: (BATCH_SIZE x CONTEXT_WINDOW x EMBEDDING_DIM)\n",
    "    \"\"\"\n",
    "    def __init__(self, config):\n",
    "        super().__init__()\n",
    "        self.config = config\n",
    "\n",
    "        if config['d_model'] % 2 != 0:\n",
    "            raise ValueError(\"d_model must be divisible by 2\")\n",
    "        self.w_q = torch.randn(config['d_model'], config['d_model'], requires_grad=True)\n",
    "        self.w_k = torch.randn(config['d_model'], config['d_model'], requires_grad=True)\n",
    "        self.w_v = torch.randn(config['d_model'], config['d_model'], requires_grad=True)\n",
    "        self.register_buffer(\"tril\", torch.tril(torch.ones(config['context_window'], config['context_window']))) # mask\n",
    "        \n",
    "    def get_rotary_matrix(self, x):\n",
    "        b, m, d = x.shape\n",
    "        R = torch.zeros((d, d, m))\n",
    "        for position in range(m):\n",
    "            for i in range(d//2):\n",
    "                theta = 10000. ** (-2.*(i - 1) / d)\n",
    "                m_theta = position * theta\n",
    "                R[2*i,2*i, position] = np.cos(m_theta)\n",
    "                R[2*i,2*i+1, position] = - np.sin(m_theta)\n",
    "                R[2*i+1,2*i, position] = np.sin(m_theta)\n",
    "                R[2*i+1,2*i+1, position] = np.cos(m_theta)\n",
    "        return R\n",
    "\n",
    "    def forward(self, x):\n",
    "        \"\"\"\n",
    "        x: [BATCH_SIZE x CONTEXT_WINDOW x EMBEDDING_DIM]\n",
    "        out: [BATCH_SIZE x CONTEXT_WINDOW x EMBEDDING_DIM]\n",
    "        \"\"\"\n",
    "        b, m, d = x.shape\n",
    "        R = self.get_rotary_matrix(x) # [d x d x m]\n",
    "\n",
    "        q_rotated_query_weight = self.w_q @ R # [d x d x m]\n",
    "        q = q_rotated_query_weight.view(m, d, d) @ x.view(m, d, b)\n",
    "        q = q.view(b, m, d)\n",
    "\n",
    "        k_rotated_query_weight = self.w_k @ R # [d x d x m]\n",
    "        k = k_rotated_query_weight.view(m, d, d) @ x.view(m, d, b)\n",
    "        k = k.view(b, m, d)\n",
    "        \n",
    "        B = (q @ k.transpose(1,2)) / np.sqrt(self.config['d_model'])\n",
    "        mask = B.masked_fill(self.tril[:m, :m] == 0, float(\"-inf\"))\n",
    "        a = F.softmax(mask, dim=-1) # attention\n",
    "        v = x @ self.w_v \n",
    "        out = a @ v\n",
    "        return out\n",
    "\n",
    "\n",
    "config = {\n",
    "    \"batch_size\": 3,\n",
    "    \"context_window\": 10,\n",
    "    \"d_model\": 128,\n",
    "}\n",
    "r = MaskedRotarySelfAttentionHead(config)\n",
    "batch = torch.randn((3, 10, config['d_model']))\n",
    "\n",
    "r(batch).shape"
   ]
  },
  {
   "cell_type": "code",
   "execution_count": 7,
   "metadata": {},
   "outputs": [
    {
     "data": {
      "image/png": "[encoded data removed]",
      "text/plain": [
       "<Figure size 2000x500 with 10 Axes>"
      ]
     },
     "metadata": {},
     "output_type": "display_data"
    }
   ],
   "source": [
    "config = {\n",
    "    \"batch_size\": 3,\n",
    "    \"context_window\": 10,\n",
    "    \"d_model\": 16,\n",
    "}\n",
    "r = MaskedRotarySelfAttentionHead(config)\n",
    "batch = torch.randn((3, 10, config['d_model']))\n",
    "\n",
    "R = r.get_rotary_matrix(batch)\n",
    "fix, ax = plt.subplots(1, R.shape[-1], figsize=(20, 5))\n",
    "for i in range(R.shape[-1]):\n",
    "    ax[i].imshow(R[:, :, i].detach().numpy())\n",
    "    ax[i].set_title(f'Rotary matrix {i}')"
   ]
  },
  {
   "cell_type": "code",
   "execution_count": 8,
   "metadata": {},
   "outputs": [
    {
     "data": {
      "text/plain": [
       "<matplotlib.colorbar.Colorbar at 0x14f7c1b50>"
      ]
     },
     "execution_count": 8,
     "metadata": {},
     "output_type": "execute_result"
    },
    {
     "data": {
      "image/png": "[encoded data removed]",
      "text/plain": [
       "<Figure size 640x480 with 2 Axes>"
      ]
     },
     "metadata": {},
     "output_type": "display_data"
    }
   ],
   "source": [
    "config = {\n",
    "    \"batch_size\": 3,\n",
    "    \"context_window\": 10,\n",
    "    \"d_model\": 16,\n",
    "}\n",
    "r = MaskedRotarySelfAttentionHead(config)\n",
    "batch = torch.randn((3, 10, config['d_model']))\n",
    "\n",
    "R = r.get_rotary_matrix(batch)\n",
    "plt.imshow(R[...,-1].detach().numpy())\n",
    "plt.colorbar()"
   ]
  },
  {
   "cell_type": "code",
   "execution_count": 9,
   "metadata": {},
   "outputs": [],
   "source": [
    "config = {\n",
    "    \"batch_size\": 1,\n",
    "    \"context_window\": 10,\n",
    "    \"d_model\": 16,\n",
    "}\n",
    "r = MaskedRotarySelfAttentionHead(config)\n",
    "batch = torch.randn((1, 10, config['d_model']))\n",
    "\n",
    "R = r.get_rotary_matrix(batch)\n",
    "b, m, d = batch.shape\n",
    "\n",
    "q_rotated_query_weight = r.w_q @ R # [d x d x m]\n",
    "q = q_rotated_query_weight.view(m, d, d) @ batch.view(m, d, b)\n",
    "q = q.view(b, m, d)\n",
    "\n",
    "k_rotated_query_weight = r.w_k @ R # [d x d x m]\n",
    "k = k_rotated_query_weight.view(m, d, d) @ batch.view(m, d, b)\n",
    "k = k.view(b, m, d)\n",
    "\n",
    "B = (q @ k.transpose(1,2)) / np.sqrt(r.config['d_model'])\n",
    "mask = B.masked_fill(r.tril[:m, :m] == 0, float(\"-inf\"))\n",
    "a = F.softmax(mask, dim=-1) # attention\n",
    "v = batch @ r.w_v \n",
    "out = a @ v"
   ]
  },
  {
   "cell_type": "code",
   "execution_count": 10,
   "metadata": {},
   "outputs": [
    {
     "data": {
      "text/plain": [
       "torch.Size([1, 1, 128])"
      ]
     },
     "execution_count": 10,
     "metadata": {},
     "output_type": "execute_result"
    }
   ],
   "source": [
    "class MaskedRotaryNultiHeadedAttention(nn.Module):\n",
    "    def __init__(self, config):\n",
    "        super().__init__()\n",
    "        self.config = config\n",
    "        self.heads = nn.ModuleList([\n",
    "            MaskedRotarySelfAttentionHead(config) for _ in range(config[\"n_heads\"])\n",
    "        ])\n",
    "        self.linear = nn.Linear(config[\"n_heads\"] * config[\"d_model\"], config[\"d_model\"])\n",
    "        self.dropout = nn.Dropout(0.1)\n",
    "\n",
    "\n",
    "    def forward(self, x):\n",
    "        out = torch.cat([head(x) for head in self.heads], dim=-1)\n",
    "        out = self.dropout(self.linear(out))\n",
    "        return out\n",
    "\n",
    "config = {\n",
    "    \"n_heads\": 8,\n",
    "    \"d_model\": 128,\n",
    "    \"batch_size\": 32,\n",
    "    \"context_window\": 16,\n",
    "}\n",
    "\n",
    "batch = torch.randn((1, 1, config['d_model']))\n",
    "m = MaskedRotaryNultiHeadedAttention(config)\n",
    "\n",
    "m(batch).shape"
   ]
  },
  {
   "cell_type": "code",
   "execution_count": 11,
   "metadata": {},
   "outputs": [],
   "source": [
    "class SwiGLU(nn.Module):\n",
    "    \"\"\"\n",
    "    Swish-Gated Linear Unit\n",
    "    https://arxiv.org/pdf/2002.05202v1.pdf\n",
    "    \"\"\"\n",
    "    def __init__(self, config):\n",
    "        super().__init__()\n",
    "        self.config = config\n",
    "        self.linear_gate = nn.Linear(config['d_model'], config['d_model'])\n",
    "        self.linear = nn.Linear(config['d_model'], config['d_model'])\n",
    "        self.beta = torch.randn(1, requires_grad=True)\n",
    "\n",
    "    def forward(self, x): \n",
    "        swish_gate = self.linear_gate(x) * torch.sigmoid(self.beta * self.linear_gate(x))\n",
    "        out = swish_gate * self.linear(x)\n",
    "        return out"
   ]
  },
  {
   "cell_type": "code",
   "execution_count": 12,
   "metadata": {},
   "outputs": [
    {
     "data": {
      "text/plain": [
       "<matplotlib.image.AxesImage at 0x15e1c8090>"
      ]
     },
     "execution_count": 12,
     "metadata": {},
     "output_type": "execute_result"
    },
    {
     "data": {
      "image/png": "[encoded data removed]",
      "text/plain": [
       "<Figure size 1000x500 with 2 Axes>"
      ]
     },
     "metadata": {},
     "output_type": "display_data"
    }
   ],
   "source": [
    "config = {\n",
    "    \"n_heads\": 8,\n",
    "    \"d_model\": 16,\n",
    "    \"batch_size\": 3,\n",
    "    \"context_window\": 10,\n",
    "}\n",
    "s = SwiGLU(config)\n",
    "batch = torch.randn(config['batch_size'], config['context_window'], config[\"d_model\"])\n",
    "out = s(batch)\n",
    "out.shape\n",
    "fig, ax = plt.subplots(1, 2, figsize=(10, 5))\n",
    "ax[0].imshow(batch[0].detach().numpy())\n",
    "ax[1].imshow(out[0].detach().numpy())"
   ]
  },
  {
   "cell_type": "code",
   "execution_count": 13,
   "metadata": {},
   "outputs": [],
   "source": [
    "class RMSNorm(nn.Module):\n",
    "    def __init__(self, d, p=-1., eps=1e-8, bias=False):\n",
    "        \"\"\"\n",
    "            Root Mean Square Layer Normalization\n",
    "        :param d: model size\n",
    "        :param p: partial RMSNorm, valid value [0, 1], default -1.0 (disabled)\n",
    "        :param eps:  epsilon value, default 1e-8\n",
    "        :param bias: whether use bias term for RMSNorm, disabled by\n",
    "            default because RMSNorm doesn't enforce re-centering invariance.\n",
    "\n",
    "        https://github.com/bzhangGo/rmsnorm/blob/master/rmsnorm_torch.py\n",
    "        \"\"\"\n",
    "        super(RMSNorm, self).__init__()\n",
    "\n",
    "        self.eps = eps\n",
    "        self.d = d\n",
    "        self.p = p\n",
    "        self.bias = bias\n",
    "\n",
    "        self.scale = nn.Parameter(torch.ones(d))\n",
    "        self.register_parameter(\"scale\", self.scale)\n",
    "\n",
    "        if self.bias:\n",
    "            self.offset = nn.Parameter(torch.zeros(d))\n",
    "            self.register_parameter(\"offset\", self.offset)\n",
    "\n",
    "    def forward(self, x):\n",
    "        if self.p < 0. or self.p > 1.:\n",
    "            norm_x = x.norm(2, dim=-1, keepdim=True)\n",
    "            d_x = self.d\n",
    "        else:\n",
    "            partial_size = int(self.d * self.p)\n",
    "            partial_x, _ = torch.split(x, [partial_size, self.d - partial_size], dim=-1)\n",
    "\n",
    "            norm_x = partial_x.norm(2, dim=-1, keepdim=True)\n",
    "            d_x = partial_size\n",
    "\n",
    "        rms_x = norm_x * d_x ** (-1. / 2)\n",
    "        x_normed = x / (rms_x + self.eps)\n",
    "\n",
    "        if self.bias:\n",
    "            return self.scale * x_normed + self.offset\n",
    "\n",
    "        return self.scale * x_normed"
   ]
  },
  {
   "cell_type": "code",
   "execution_count": 14,
   "metadata": {},
   "outputs": [
    {
     "data": {
      "text/plain": [
       "torch.Size([1, 1, 512])"
      ]
     },
     "execution_count": 14,
     "metadata": {},
     "output_type": "execute_result"
    }
   ],
   "source": [
    "config = {\n",
    "    \"n_heads\": 8,\n",
    "    \"d_model\": 512,\n",
    "    \"batch_size\": 3,\n",
    "    \"context_window\": 10,\n",
    "}\n",
    "\n",
    "class LlamaLayer(nn.Module):\n",
    "    def __init__(self, config):\n",
    "        super().__init__()\n",
    "        self.config = config\n",
    "\n",
    "        self.multihead = nn.Sequential(\n",
    "            RMSNorm(config['d_model']),\n",
    "            MaskedRotaryNultiHeadedAttention(config)\n",
    "        )\n",
    "        self.ffn = nn.Sequential(\n",
    "            RMSNorm(config['d_model']),\n",
    "            SwiGLU(config),\n",
    "        )\n",
    "\n",
    "    def forward(self, x):\n",
    "        mid = x + self.multihead(x)\n",
    "        out = mid + self.ffn(mid)\n",
    "\n",
    "        return out\n",
    "\n",
    "batch = torch.randn((1, 1, config['d_model']))\n",
    "m = LlamaLayer(config)\n",
    "m(batch).shape"
   ]
  },
  {
   "cell_type": "code",
   "execution_count": 15,
   "metadata": {},
   "outputs": [],
   "source": [
    "from collections import OrderedDict\n",
    "\n",
    "class Llama(nn.Module):\n",
    "    def __init__(self, config):\n",
    "        super().__init__()\n",
    "        self.config = config\n",
    "        self.embedding = nn.Embedding(config['vocab_size'], config['d_model'])\n",
    "        self.linear = nn.Linear(config['d_model'], config['vocab_size'])\n",
    "        self.layers = nn.Sequential(OrderedDict([\n",
    "            (f\"llama_layer_{i}\", LlamaLayer(config)) for i in range(config['n_layers'])\n",
    "        ]))\n",
    "\n",
    "    def forward(self, idx, targets=None):\n",
    "        \"\"\"\n",
    "        idx: [batch_size, seq_len]\n",
    "        targets: [batch_size, seq_len]\n",
    "        \"\"\"\n",
    "\n",
    "        # logits = x # todo\n",
    "        embeds = self.embedding(idx) # [batch_size, seq_len, hidden_size]\n",
    "        logits = self.layers(embeds) # [batch_size, seq_len, d_model]\n",
    "        logits = F.softmax(self.linear(logits), dim=-1) # [batch_size, seq_len, vocab_size]\n",
    "\n",
    "        if targets is None:\n",
    "            return logits\n",
    "        \n",
    "        else:\n",
    "            loss = F.cross_entropy(logits.view(-1, self.config['vocab_size']), targets.view(-1))\n",
    "            return logits, loss\n",
    "\n",
    "    def generate(self, idx, max_len=20):\n",
    "        \"\"\"\n",
    "        idx: [batch_size, seq_len]\n",
    "        \"\"\"\n",
    "        for i in range(max_len):\n",
    "            logits = self(idx[:, -self.config['context_window']:])\n",
    "            pred = torch.argmax(logits, dim=-1)[..., -1:]\n",
    "            idx = torch.cat([idx, pred], dim=-1)\n",
    "\n",
    "        return idx"
   ]
  },
  {
   "cell_type": "code",
   "execution_count": 16,
   "metadata": {},
   "outputs": [
    {
     "data": {
      "text/plain": [
       "674625"
      ]
     },
     "execution_count": 16,
     "metadata": {},
     "output_type": "execute_result"
    }
   ],
   "source": [
    "import time\n",
    "\n",
    "config = {\n",
    "    \"n_heads\": 8,\n",
    "    \"d_model\": 128,\n",
    "    \"batch_size\": 32,\n",
    "    \"n_layers\": 4,\n",
    "    \"context_window\": 16,\n",
    "    \"vocab_size\": len(vocab),\n",
    "    \"epochs\": 1000,\n",
    "    \"log_interval\": 10,\n",
    "}\n",
    "\n",
    "model = Llama(config)\n",
    "sum([p.numel() for p in model.parameters()])\n"
   ]
  },
  {
   "cell_type": "code",
   "execution_count": 17,
   "metadata": {},
   "outputs": [
    {
     "name": "stdout",
     "output_type": "stream",
     "text": [
      "Epoch 0 | Loss 4.176 | Time 0.801 | ETA in seconds 80.059\n",
      "Epoch 10 | Loss 4.184 | Time 7.549 | ETA in seconds 747.330\n"
     ]
    },
    {
     "ename": "KeyboardInterrupt",
     "evalue": "",
     "output_type": "error",
     "traceback": [
      "\u001b[0;31m---------------------------------------------------------------------------\u001b[0m",
      "\u001b[0;31mKeyboardInterrupt\u001b[0m                         Traceback (most recent call last)",
      "Cell \u001b[0;32mIn[17], line 34\u001b[0m\n\u001b[1;32m     31\u001b[0m optimizer\u001b[39m.\u001b[39mzero_grad()\n\u001b[1;32m     33\u001b[0m xs, ys \u001b[39m=\u001b[39m get_batches(dataset, \u001b[39m'\u001b[39m\u001b[39mtrain\u001b[39m\u001b[39m'\u001b[39m, config[\u001b[39m'\u001b[39m\u001b[39mbatch_size\u001b[39m\u001b[39m'\u001b[39m], config[\u001b[39m'\u001b[39m\u001b[39mcontext_window\u001b[39m\u001b[39m'\u001b[39m])\n\u001b[0;32m---> 34\u001b[0m logits, loss \u001b[39m=\u001b[39m model(xs, targets\u001b[39m=\u001b[39;49mys)\n\u001b[1;32m     35\u001b[0m loss\u001b[39m.\u001b[39mbackward()\n\u001b[1;32m     37\u001b[0m nn\u001b[39m.\u001b[39mutils\u001b[39m.\u001b[39mclip_grad_norm_(model\u001b[39m.\u001b[39mparameters(), \u001b[39m1.0\u001b[39m)\n",
      "File \u001b[0;32m~/Desktop/projects/llama/.llama/lib/python3.11/site-packages/torch/nn/modules/module.py:1501\u001b[0m, in \u001b[0;36mModule._call_impl\u001b[0;34m(self, *args, **kwargs)\u001b[0m\n\u001b[1;32m   1496\u001b[0m \u001b[39m# If we don't have any hooks, we want to skip the rest of the logic in\u001b[39;00m\n\u001b[1;32m   1497\u001b[0m \u001b[39m# this function, and just call forward.\u001b[39;00m\n\u001b[1;32m   1498\u001b[0m \u001b[39mif\u001b[39;00m \u001b[39mnot\u001b[39;00m (\u001b[39mself\u001b[39m\u001b[39m.\u001b[39m_backward_hooks \u001b[39mor\u001b[39;00m \u001b[39mself\u001b[39m\u001b[39m.\u001b[39m_backward_pre_hooks \u001b[39mor\u001b[39;00m \u001b[39mself\u001b[39m\u001b[39m.\u001b[39m_forward_hooks \u001b[39mor\u001b[39;00m \u001b[39mself\u001b[39m\u001b[39m.\u001b[39m_forward_pre_hooks\n\u001b[1;32m   1499\u001b[0m         \u001b[39mor\u001b[39;00m _global_backward_pre_hooks \u001b[39mor\u001b[39;00m _global_backward_hooks\n\u001b[1;32m   1500\u001b[0m         \u001b[39mor\u001b[39;00m _global_forward_hooks \u001b[39mor\u001b[39;00m _global_forward_pre_hooks):\n\u001b[0;32m-> 1501\u001b[0m     \u001b[39mreturn\u001b[39;00m forward_call(\u001b[39m*\u001b[39;49margs, \u001b[39m*\u001b[39;49m\u001b[39m*\u001b[39;49mkwargs)\n\u001b[1;32m   1502\u001b[0m \u001b[39m# Do not call functions when jit is used\u001b[39;00m\n\u001b[1;32m   1503\u001b[0m full_backward_hooks, non_full_backward_hooks \u001b[39m=\u001b[39m [], []\n",
      "Cell \u001b[0;32mIn[15], line 21\u001b[0m, in \u001b[0;36mLlama.forward\u001b[0;34m(self, idx, targets)\u001b[0m\n\u001b[1;32m     19\u001b[0m \u001b[39m# logits = x # todo\u001b[39;00m\n\u001b[1;32m     20\u001b[0m embeds \u001b[39m=\u001b[39m \u001b[39mself\u001b[39m\u001b[39m.\u001b[39membedding(idx) \u001b[39m# [batch_size, seq_len, hidden_size]\u001b[39;00m\n\u001b[0;32m---> 21\u001b[0m logits \u001b[39m=\u001b[39m \u001b[39mself\u001b[39;49m\u001b[39m.\u001b[39;49mlayers(embeds) \u001b[39m# [batch_size, seq_len, d_model]\u001b[39;00m\n\u001b[1;32m     22\u001b[0m logits \u001b[39m=\u001b[39m F\u001b[39m.\u001b[39msoftmax(\u001b[39mself\u001b[39m\u001b[39m.\u001b[39mlinear(logits), dim\u001b[39m=\u001b[39m\u001b[39m-\u001b[39m\u001b[39m1\u001b[39m) \u001b[39m# [batch_size, seq_len, vocab_size]\u001b[39;00m\n\u001b[1;32m     24\u001b[0m \u001b[39mif\u001b[39;00m targets \u001b[39mis\u001b[39;00m \u001b[39mNone\u001b[39;00m:\n",
      "File \u001b[0;32m~/Desktop/projects/llama/.llama/lib/python3.11/site-packages/torch/nn/modules/module.py:1501\u001b[0m, in \u001b[0;36mModule._call_impl\u001b[0;34m(self, *args, **kwargs)\u001b[0m\n\u001b[1;32m   1496\u001b[0m \u001b[39m# If we don't have any hooks, we want to skip the rest of the logic in\u001b[39;00m\n\u001b[1;32m   1497\u001b[0m \u001b[39m# this function, and just call forward.\u001b[39;00m\n\u001b[1;32m   1498\u001b[0m \u001b[39mif\u001b[39;00m \u001b[39mnot\u001b[39;00m (\u001b[39mself\u001b[39m\u001b[39m.\u001b[39m_backward_hooks \u001b[39mor\u001b[39;00m \u001b[39mself\u001b[39m\u001b[39m.\u001b[39m_backward_pre_hooks \u001b[39mor\u001b[39;00m \u001b[39mself\u001b[39m\u001b[39m.\u001b[39m_forward_hooks \u001b[39mor\u001b[39;00m \u001b[39mself\u001b[39m\u001b[39m.\u001b[39m_forward_pre_hooks\n\u001b[1;32m   1499\u001b[0m         \u001b[39mor\u001b[39;00m _global_backward_pre_hooks \u001b[39mor\u001b[39;00m _global_backward_hooks\n\u001b[1;32m   1500\u001b[0m         \u001b[39mor\u001b[39;00m _global_forward_hooks \u001b[39mor\u001b[39;00m _global_forward_pre_hooks):\n\u001b[0;32m-> 1501\u001b[0m     \u001b[39mreturn\u001b[39;00m forward_call(\u001b[39m*\u001b[39;49margs, \u001b[39m*\u001b[39;49m\u001b[39m*\u001b[39;49mkwargs)\n\u001b[1;32m   1502\u001b[0m \u001b[39m# Do not call functions when jit is used\u001b[39;00m\n\u001b[1;32m   1503\u001b[0m full_backward_hooks, non_full_backward_hooks \u001b[39m=\u001b[39m [], []\n",
      "File \u001b[0;32m~/Desktop/projects/llama/.llama/lib/python3.11/site-packages/torch/nn/modules/container.py:217\u001b[0m, in \u001b[0;36mSequential.forward\u001b[0;34m(self, input)\u001b[0m\n\u001b[1;32m    215\u001b[0m \u001b[39mdef\u001b[39;00m \u001b[39mforward\u001b[39m(\u001b[39mself\u001b[39m, \u001b[39minput\u001b[39m):\n\u001b[1;32m    216\u001b[0m     \u001b[39mfor\u001b[39;00m module \u001b[39min\u001b[39;00m \u001b[39mself\u001b[39m:\n\u001b[0;32m--> 217\u001b[0m         \u001b[39minput\u001b[39m \u001b[39m=\u001b[39m module(\u001b[39minput\u001b[39;49m)\n\u001b[1;32m    218\u001b[0m     \u001b[39mreturn\u001b[39;00m \u001b[39minput\u001b[39m\n",
      "File \u001b[0;32m~/Desktop/projects/llama/.llama/lib/python3.11/site-packages/torch/nn/modules/module.py:1501\u001b[0m, in \u001b[0;36mModule._call_impl\u001b[0;34m(self, *args, **kwargs)\u001b[0m\n\u001b[1;32m   1496\u001b[0m \u001b[39m# If we don't have any hooks, we want to skip the rest of the logic in\u001b[39;00m\n\u001b[1;32m   1497\u001b[0m \u001b[39m# this function, and just call forward.\u001b[39;00m\n\u001b[1;32m   1498\u001b[0m \u001b[39mif\u001b[39;00m \u001b[39mnot\u001b[39;00m (\u001b[39mself\u001b[39m\u001b[39m.\u001b[39m_backward_hooks \u001b[39mor\u001b[39;00m \u001b[39mself\u001b[39m\u001b[39m.\u001b[39m_backward_pre_hooks \u001b[39mor\u001b[39;00m \u001b[39mself\u001b[39m\u001b[39m.\u001b[39m_forward_hooks \u001b[39mor\u001b[39;00m \u001b[39mself\u001b[39m\u001b[39m.\u001b[39m_forward_pre_hooks\n\u001b[1;32m   1499\u001b[0m         \u001b[39mor\u001b[39;00m _global_backward_pre_hooks \u001b[39mor\u001b[39;00m _global_backward_hooks\n\u001b[1;32m   1500\u001b[0m         \u001b[39mor\u001b[39;00m _global_forward_hooks \u001b[39mor\u001b[39;00m _global_forward_pre_hooks):\n\u001b[0;32m-> 1501\u001b[0m     \u001b[39mreturn\u001b[39;00m forward_call(\u001b[39m*\u001b[39;49margs, \u001b[39m*\u001b[39;49m\u001b[39m*\u001b[39;49mkwargs)\n\u001b[1;32m   1502\u001b[0m \u001b[39m# Do not call functions when jit is used\u001b[39;00m\n\u001b[1;32m   1503\u001b[0m full_backward_hooks, non_full_backward_hooks \u001b[39m=\u001b[39m [], []\n",
      "Cell \u001b[0;32mIn[14], line 23\u001b[0m, in \u001b[0;36mLlamaLayer.forward\u001b[0;34m(self, x)\u001b[0m\n\u001b[1;32m     22\u001b[0m \u001b[39mdef\u001b[39;00m \u001b[39mforward\u001b[39m(\u001b[39mself\u001b[39m, x):\n\u001b[0;32m---> 23\u001b[0m     mid \u001b[39m=\u001b[39m x \u001b[39m+\u001b[39m \u001b[39mself\u001b[39;49m\u001b[39m.\u001b[39;49mmultihead(x)\n\u001b[1;32m     24\u001b[0m     out \u001b[39m=\u001b[39m mid \u001b[39m+\u001b[39m \u001b[39mself\u001b[39m\u001b[39m.\u001b[39mffn(mid)\n\u001b[1;32m     26\u001b[0m     \u001b[39mreturn\u001b[39;00m out\n",
      "File \u001b[0;32m~/Desktop/projects/llama/.llama/lib/python3.11/site-packages/torch/nn/modules/module.py:1501\u001b[0m, in \u001b[0;36mModule._call_impl\u001b[0;34m(self, *args, **kwargs)\u001b[0m\n\u001b[1;32m   1496\u001b[0m \u001b[39m# If we don't have any hooks, we want to skip the rest of the logic in\u001b[39;00m\n\u001b[1;32m   1497\u001b[0m \u001b[39m# this function, and just call forward.\u001b[39;00m\n\u001b[1;32m   1498\u001b[0m \u001b[39mif\u001b[39;00m \u001b[39mnot\u001b[39;00m (\u001b[39mself\u001b[39m\u001b[39m.\u001b[39m_backward_hooks \u001b[39mor\u001b[39;00m \u001b[39mself\u001b[39m\u001b[39m.\u001b[39m_backward_pre_hooks \u001b[39mor\u001b[39;00m \u001b[39mself\u001b[39m\u001b[39m.\u001b[39m_forward_hooks \u001b[39mor\u001b[39;00m \u001b[39mself\u001b[39m\u001b[39m.\u001b[39m_forward_pre_hooks\n\u001b[1;32m   1499\u001b[0m         \u001b[39mor\u001b[39;00m _global_backward_pre_hooks \u001b[39mor\u001b[39;00m _global_backward_hooks\n\u001b[1;32m   1500\u001b[0m         \u001b[39mor\u001b[39;00m _global_forward_hooks \u001b[39mor\u001b[39;00m _global_forward_pre_hooks):\n\u001b[0;32m-> 1501\u001b[0m     \u001b[39mreturn\u001b[39;00m forward_call(\u001b[39m*\u001b[39;49margs, \u001b[39m*\u001b[39;49m\u001b[39m*\u001b[39;49mkwargs)\n\u001b[1;32m   1502\u001b[0m \u001b[39m# Do not call functions when jit is used\u001b[39;00m\n\u001b[1;32m   1503\u001b[0m full_backward_hooks, non_full_backward_hooks \u001b[39m=\u001b[39m [], []\n",
      "File \u001b[0;32m~/Desktop/projects/llama/.llama/lib/python3.11/site-packages/torch/nn/modules/container.py:217\u001b[0m, in \u001b[0;36mSequential.forward\u001b[0;34m(self, input)\u001b[0m\n\u001b[1;32m    215\u001b[0m \u001b[39mdef\u001b[39;00m \u001b[39mforward\u001b[39m(\u001b[39mself\u001b[39m, \u001b[39minput\u001b[39m):\n\u001b[1;32m    216\u001b[0m     \u001b[39mfor\u001b[39;00m module \u001b[39min\u001b[39;00m \u001b[39mself\u001b[39m:\n\u001b[0;32m--> 217\u001b[0m         \u001b[39minput\u001b[39m \u001b[39m=\u001b[39m module(\u001b[39minput\u001b[39;49m)\n\u001b[1;32m    218\u001b[0m     \u001b[39mreturn\u001b[39;00m \u001b[39minput\u001b[39m\n",
      "File \u001b[0;32m~/Desktop/projects/llama/.llama/lib/python3.11/site-packages/torch/nn/modules/module.py:1501\u001b[0m, in \u001b[0;36mModule._call_impl\u001b[0;34m(self, *args, **kwargs)\u001b[0m\n\u001b[1;32m   1496\u001b[0m \u001b[39m# If we don't have any hooks, we want to skip the rest of the logic in\u001b[39;00m\n\u001b[1;32m   1497\u001b[0m \u001b[39m# this function, and just call forward.\u001b[39;00m\n\u001b[1;32m   1498\u001b[0m \u001b[39mif\u001b[39;00m \u001b[39mnot\u001b[39;00m (\u001b[39mself\u001b[39m\u001b[39m.\u001b[39m_backward_hooks \u001b[39mor\u001b[39;00m \u001b[39mself\u001b[39m\u001b[39m.\u001b[39m_backward_pre_hooks \u001b[39mor\u001b[39;00m \u001b[39mself\u001b[39m\u001b[39m.\u001b[39m_forward_hooks \u001b[39mor\u001b[39;00m \u001b[39mself\u001b[39m\u001b[39m.\u001b[39m_forward_pre_hooks\n\u001b[1;32m   1499\u001b[0m         \u001b[39mor\u001b[39;00m _global_backward_pre_hooks \u001b[39mor\u001b[39;00m _global_backward_hooks\n\u001b[1;32m   1500\u001b[0m         \u001b[39mor\u001b[39;00m _global_forward_hooks \u001b[39mor\u001b[39;00m _global_forward_pre_hooks):\n\u001b[0;32m-> 1501\u001b[0m     \u001b[39mreturn\u001b[39;00m forward_call(\u001b[39m*\u001b[39;49margs, \u001b[39m*\u001b[39;49m\u001b[39m*\u001b[39;49mkwargs)\n\u001b[1;32m   1502\u001b[0m \u001b[39m# Do not call functions when jit is used\u001b[39;00m\n\u001b[1;32m   1503\u001b[0m full_backward_hooks, non_full_backward_hooks \u001b[39m=\u001b[39m [], []\n",
      "Cell \u001b[0;32mIn[10], line 13\u001b[0m, in \u001b[0;36mMaskedRotaryNultiHeadedAttention.forward\u001b[0;34m(self, x)\u001b[0m\n\u001b[1;32m     12\u001b[0m \u001b[39mdef\u001b[39;00m \u001b[39mforward\u001b[39m(\u001b[39mself\u001b[39m, x):\n\u001b[0;32m---> 13\u001b[0m     out \u001b[39m=\u001b[39m torch\u001b[39m.\u001b[39mcat([head(x) \u001b[39mfor\u001b[39;49;00m head \u001b[39min\u001b[39;49;00m \u001b[39mself\u001b[39;49m\u001b[39m.\u001b[39;49mheads], dim\u001b[39m=\u001b[39m\u001b[39m-\u001b[39m\u001b[39m1\u001b[39m)\n\u001b[1;32m     14\u001b[0m     out \u001b[39m=\u001b[39m \u001b[39mself\u001b[39m\u001b[39m.\u001b[39mdropout(\u001b[39mself\u001b[39m\u001b[39m.\u001b[39mlinear(out))\n\u001b[1;32m     15\u001b[0m     \u001b[39mreturn\u001b[39;00m out\n",
      "Cell \u001b[0;32mIn[10], line 13\u001b[0m, in \u001b[0;36m<listcomp>\u001b[0;34m(.0)\u001b[0m\n\u001b[1;32m     12\u001b[0m \u001b[39mdef\u001b[39;00m \u001b[39mforward\u001b[39m(\u001b[39mself\u001b[39m, x):\n\u001b[0;32m---> 13\u001b[0m     out \u001b[39m=\u001b[39m torch\u001b[39m.\u001b[39mcat([head(x) \u001b[39mfor\u001b[39;00m head \u001b[39min\u001b[39;00m \u001b[39mself\u001b[39m\u001b[39m.\u001b[39mheads], dim\u001b[39m=\u001b[39m\u001b[39m-\u001b[39m\u001b[39m1\u001b[39m)\n\u001b[1;32m     14\u001b[0m     out \u001b[39m=\u001b[39m \u001b[39mself\u001b[39m\u001b[39m.\u001b[39mdropout(\u001b[39mself\u001b[39m\u001b[39m.\u001b[39mlinear(out))\n\u001b[1;32m     15\u001b[0m     \u001b[39mreturn\u001b[39;00m out\n",
      "File \u001b[0;32m~/Desktop/projects/llama/.llama/lib/python3.11/site-packages/torch/nn/modules/module.py:1501\u001b[0m, in \u001b[0;36mModule._call_impl\u001b[0;34m(self, *args, **kwargs)\u001b[0m\n\u001b[1;32m   1496\u001b[0m \u001b[39m# If we don't have any hooks, we want to skip the rest of the logic in\u001b[39;00m\n\u001b[1;32m   1497\u001b[0m \u001b[39m# this function, and just call forward.\u001b[39;00m\n\u001b[1;32m   1498\u001b[0m \u001b[39mif\u001b[39;00m \u001b[39mnot\u001b[39;00m (\u001b[39mself\u001b[39m\u001b[39m.\u001b[39m_backward_hooks \u001b[39mor\u001b[39;00m \u001b[39mself\u001b[39m\u001b[39m.\u001b[39m_backward_pre_hooks \u001b[39mor\u001b[39;00m \u001b[39mself\u001b[39m\u001b[39m.\u001b[39m_forward_hooks \u001b[39mor\u001b[39;00m \u001b[39mself\u001b[39m\u001b[39m.\u001b[39m_forward_pre_hooks\n\u001b[1;32m   1499\u001b[0m         \u001b[39mor\u001b[39;00m _global_backward_pre_hooks \u001b[39mor\u001b[39;00m _global_backward_hooks\n\u001b[1;32m   1500\u001b[0m         \u001b[39mor\u001b[39;00m _global_forward_hooks \u001b[39mor\u001b[39;00m _global_forward_pre_hooks):\n\u001b[0;32m-> 1501\u001b[0m     \u001b[39mreturn\u001b[39;00m forward_call(\u001b[39m*\u001b[39;49margs, \u001b[39m*\u001b[39;49m\u001b[39m*\u001b[39;49mkwargs)\n\u001b[1;32m   1502\u001b[0m \u001b[39m# Do not call functions when jit is used\u001b[39;00m\n\u001b[1;32m   1503\u001b[0m full_backward_hooks, non_full_backward_hooks \u001b[39m=\u001b[39m [], []\n",
      "Cell \u001b[0;32mIn[6], line 38\u001b[0m, in \u001b[0;36mMaskedRotarySelfAttentionHead.forward\u001b[0;34m(self, x)\u001b[0m\n\u001b[1;32m     33\u001b[0m \u001b[39m\u001b[39m\u001b[39m\"\"\"\u001b[39;00m\n\u001b[1;32m     34\u001b[0m \u001b[39mx: [BATCH_SIZE x CONTEXT_WINDOW x EMBEDDING_DIM]\u001b[39;00m\n\u001b[1;32m     35\u001b[0m \u001b[39mout: [BATCH_SIZE x CONTEXT_WINDOW x EMBEDDING_DIM]\u001b[39;00m\n\u001b[1;32m     36\u001b[0m \u001b[39m\"\"\"\u001b[39;00m\n\u001b[1;32m     37\u001b[0m b, m, d \u001b[39m=\u001b[39m x\u001b[39m.\u001b[39mshape\n\u001b[0;32m---> 38\u001b[0m R \u001b[39m=\u001b[39m \u001b[39mself\u001b[39;49m\u001b[39m.\u001b[39;49mget_rotary_matrix(x) \u001b[39m# [d x d x m]\u001b[39;00m\n\u001b[1;32m     40\u001b[0m q_rotated_query_weight \u001b[39m=\u001b[39m \u001b[39mself\u001b[39m\u001b[39m.\u001b[39mw_q \u001b[39m@\u001b[39m R \u001b[39m# [d x d x m]\u001b[39;00m\n\u001b[1;32m     41\u001b[0m q \u001b[39m=\u001b[39m q_rotated_query_weight\u001b[39m.\u001b[39mview(m, d, d) \u001b[39m@\u001b[39m x\u001b[39m.\u001b[39mview(m, d, b)\n",
      "Cell \u001b[0;32mIn[6], line 26\u001b[0m, in \u001b[0;36mMaskedRotarySelfAttentionHead.get_rotary_matrix\u001b[0;34m(self, x)\u001b[0m\n\u001b[1;32m     24\u001b[0m theta \u001b[39m=\u001b[39m \u001b[39m10000.\u001b[39m \u001b[39m*\u001b[39m\u001b[39m*\u001b[39m (\u001b[39m-\u001b[39m\u001b[39m2.\u001b[39m\u001b[39m*\u001b[39m(i \u001b[39m-\u001b[39m \u001b[39m1\u001b[39m) \u001b[39m/\u001b[39m d)\n\u001b[1;32m     25\u001b[0m m_theta \u001b[39m=\u001b[39m position \u001b[39m*\u001b[39m theta\n\u001b[0;32m---> 26\u001b[0m R[\u001b[39m2\u001b[39m\u001b[39m*\u001b[39mi,\u001b[39m2\u001b[39m\u001b[39m*\u001b[39mi, position] \u001b[39m=\u001b[39m np\u001b[39m.\u001b[39;49mcos(m_theta)\n\u001b[1;32m     27\u001b[0m R[\u001b[39m2\u001b[39m\u001b[39m*\u001b[39mi,\u001b[39m2\u001b[39m\u001b[39m*\u001b[39mi\u001b[39m+\u001b[39m\u001b[39m1\u001b[39m, position] \u001b[39m=\u001b[39m \u001b[39m-\u001b[39m np\u001b[39m.\u001b[39msin(m_theta)\n\u001b[1;32m     28\u001b[0m R[\u001b[39m2\u001b[39m\u001b[39m*\u001b[39mi\u001b[39m+\u001b[39m\u001b[39m1\u001b[39m,\u001b[39m2\u001b[39m\u001b[39m*\u001b[39mi, position] \u001b[39m=\u001b[39m np\u001b[39m.\u001b[39msin(m_theta)\n",
      "\u001b[0;31mKeyboardInterrupt\u001b[0m: "
     ]
    }
   ],
   "source": [
    "from matplotlib import pyplot as plt\n",
    "\n",
    "@torch.no_grad()  # don't compute gradients for this function\n",
    "def evaluate_loss():\n",
    "    out = {}\n",
    "    model.eval()\n",
    "    for split in [\"train\", \"val\"]:\n",
    "        losses = []\n",
    "        for _ in range(10):\n",
    "            xb, yb = get_batches(dataset, split, config['batch_size'], config['context_window'])\n",
    "            _, loss = model(xb, yb)\n",
    "            losses.append(loss.item())\n",
    "        out[split] = np.mean(losses)\n",
    "    model.train()\n",
    "    return out\n",
    "\n",
    "# train\n",
    "optimizer = torch.optim.Adam(\n",
    "    model.parameters(), \n",
    "    betas=(.9, .95), \n",
    "    weight_decay=.1, \n",
    "    eps=1e-9, \n",
    "    lr=3e-4\n",
    ")\n",
    "# scheduler = torch.optim.lr_scheduler.CosineAnnealingLR(optimizer, 300, eta_min=1e-5)\n",
    "\n",
    "start_time = time.time()\n",
    "losses = []\n",
    "\n",
    "for epoch in range(config['epochs']):\n",
    "    optimizer.zero_grad()\n",
    "    \n",
    "    xs, ys = get_batches(dataset, 'train', config['batch_size'], config['context_window'])\n",
    "    logits, loss = model(xs, targets=ys)\n",
    "    loss.backward()\n",
    "\n",
    "    nn.utils.clip_grad_norm_(model.parameters(), 1.0)\n",
    "    optimizer.step()\n",
    "    # scheduler.step()\n",
    "\n",
    "    if epoch % config['log_interval'] == 0:\n",
    "        batch_time = time.time() - start_time\n",
    "        losses += [evaluate_loss()]\n",
    "        print(f\"Epoch {epoch} | Loss {loss.item():.3f} | Time {batch_time:.3f} | ETA in seconds {batch_time * (config['epochs'] - epoch)/config['log_interval'] :.3f}\")\n",
    "        start_time = time.time()\n",
    "\n",
    "        # examples = model.generate(torch.arange(0, 4).unsqueeze(1))\n",
    "        # for e in examples.detach().numpy():\n",
    "        #     print(decode(list(e)))\n",
    "\n",
    "        # inspecting to make sure no gradients are exploding\n",
    "        # for name, param in model.named_parameters():\n",
    "        #     if param.requires_grad:\n",
    "        #         if param.grad is not None:\n",
    "        #             print(f\"{name} | grad norm {param.grad.norm().item():.3f} | param norm {param.norm().item():.3f}\")\n"
   ]
  },
  {
   "cell_type": "code",
   "execution_count": null,
   "metadata": {},
   "outputs": [
    {
     "name": "stdout",
     "output_type": "stream",
     "text": [
      "embedding.weight\n",
      "linear.weight\n",
      "linear.bias\n",
      "layers.llama_layer_0.prenorm.weight\n",
      "layers.llama_layer_0.prenorm.bias\n",
      "layers.llama_layer_0.multihead.linear.weight\n",
      "layers.llama_layer_0.multihead.linear.bias\n",
      "layers.llama_layer_0.ffn.0.weight\n",
      "layers.llama_layer_0.ffn.0.bias\n",
      "layers.llama_layer_0.ffn.1.linear_gate.weight\n",
      "layers.llama_layer_0.ffn.1.linear_gate.bias\n",
      "layers.llama_layer_0.ffn.1.linear.weight\n",
      "layers.llama_layer_0.ffn.1.linear.bias\n",
      "layers.llama_layer_0.postnorm.weight\n",
      "layers.llama_layer_0.postnorm.bias\n",
      "layers.llama_layer_1.prenorm.weight\n",
      "layers.llama_layer_1.prenorm.bias\n",
      "layers.llama_layer_1.multihead.linear.weight\n",
      "layers.llama_layer_1.multihead.linear.bias\n",
      "layers.llama_layer_1.ffn.0.weight\n",
      "layers.llama_layer_1.ffn.0.bias\n",
      "layers.llama_layer_1.ffn.1.linear_gate.weight\n",
      "layers.llama_layer_1.ffn.1.linear_gate.bias\n",
      "layers.llama_layer_1.ffn.1.linear.weight\n",
      "layers.llama_layer_1.ffn.1.linear.bias\n",
      "layers.llama_layer_1.postnorm.weight\n",
      "layers.llama_layer_1.postnorm.bias\n",
      "layers.llama_layer_2.prenorm.weight\n",
      "layers.llama_layer_2.prenorm.bias\n",
      "layers.llama_layer_2.multihead.linear.weight\n",
      "layers.llama_layer_2.multihead.linear.bias\n",
      "layers.llama_layer_2.ffn.0.weight\n",
      "layers.llama_layer_2.ffn.0.bias\n",
      "layers.llama_layer_2.ffn.1.linear_gate.weight\n",
      "layers.llama_layer_2.ffn.1.linear_gate.bias\n",
      "layers.llama_layer_2.ffn.1.linear.weight\n",
      "layers.llama_layer_2.ffn.1.linear.bias\n",
      "layers.llama_layer_2.postnorm.weight\n",
      "layers.llama_layer_2.postnorm.bias\n",
      "layers.llama_layer_3.prenorm.weight\n",
      "layers.llama_layer_3.prenorm.bias\n",
      "layers.llama_layer_3.multihead.linear.weight\n",
      "layers.llama_layer_3.multihead.linear.bias\n",
      "layers.llama_layer_3.ffn.0.weight\n",
      "layers.llama_layer_3.ffn.0.bias\n",
      "layers.llama_layer_3.ffn.1.linear_gate.weight\n",
      "layers.llama_layer_3.ffn.1.linear_gate.bias\n",
      "layers.llama_layer_3.ffn.1.linear.weight\n",
      "layers.llama_layer_3.ffn.1.linear.bias\n",
      "layers.llama_layer_3.postnorm.weight\n",
      "layers.llama_layer_3.postnorm.bias\n"
     ]
    }
   ],
   "source": [
    "for name, p in model.named_parameters():\n",
    "    print(name)"
   ]
  },
  {
   "cell_type": "code",
   "execution_count": null,
   "metadata": {},
   "outputs": [],
   "source": []
  }
 ],
 "metadata": {
  "kernelspec": {
   "display_name": ".llama",
   "language": "python",
   "name": "python3"
  },
  "language_info": {
   "codemirror_mode": {
    "name": "ipython",
    "version": 3
   },
   "file_extension": ".py",
   "mimetype": "text/x-python",
   "name": "python",
   "nbconvert_exporter": "python",
   "pygments_lexer": "ipython3",
   "version": "3.11.4"
  },
  "orig_nbformat": 4
 },
 "nbformat": 4,
 "nbformat_minor": 2
}
