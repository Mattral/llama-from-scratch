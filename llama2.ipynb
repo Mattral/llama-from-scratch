{
 "cells": [
  {
   "cell_type": "code",
   "execution_count": 1,
   "metadata": {},
   "outputs": [],
   "source": [
    "import torch\n",
    "from torch import nn\n",
    "from torch.nn import functional as F\n",
    "import numpy as np\n",
    "from matplotlib import pyplot as plt\n",
    "import time\n",
    "import pandas as pd\n",
    "\n",
    "device = torch.device(\"mps\")"
   ]
  },
  {
   "cell_type": "code",
   "execution_count": 15,
   "metadata": {},
   "outputs": [
    {
     "name": "stdout",
     "output_type": "stream",
     "text": [
      "vocab size: 65\n"
     ]
    },
    {
     "data": {
      "text/plain": [
       "'hello'"
      ]
     },
     "execution_count": 15,
     "metadata": {},
     "output_type": "execute_result"
    }
   ],
   "source": [
    "# simple tokenization by characters\n",
    "\n",
    "lines = open('./input.txt', 'r').read()\n",
    "\n",
    "vocab = sorted(list(set(lines)))\n",
    "itos = {i:ch for i, ch in enumerate(vocab)}\n",
    "stoi = {ch:i for i, ch in enumerate(vocab)}\n",
    "\n",
    "def encode(s):\n",
    "    return [stoi[ch] for ch in s]\n",
    "\n",
    "def decode(l):\n",
    "    return ''.join([itos[i] for i in l])\n",
    "\n",
    "print('vocab size:', len(vocab))\n",
    "decode(encode(\"hello\"))"
   ]
  },
  {
   "cell_type": "code",
   "execution_count": 17,
   "metadata": {},
   "outputs": [],
   "source": [
    "dataset = torch.tensor(encode(lines), dtype=torch.int8)"
   ]
  },
  {
   "cell_type": "code",
   "execution_count": 4,
   "metadata": {},
   "outputs": [
    {
     "data": {
      "text/plain": [
       "[('s\\nFrom me ', '\\nFrom me r'),\n",
       " ('nnot be\\nMi', 'not be\\nMin'),\n",
       " ('s and me t', ' and me th'),\n",
       " ('d am I the', ' am I then'),\n",
       " ('.\\nTell Bol', '\\nTell Boli'),\n",
       " (' Citizen:\\n', 'Citizen:\\nW'),\n",
       " ('ht.\\nLords,', 't.\\nLords, '),\n",
       " ('nd for our', 'd for our '),\n",
       " ('ns?\\nTheref', 's?\\nTherefo'),\n",
       " (' men are a', 'men are at'),\n",
       " ('l.\\n\\nJULIET', '.\\n\\nJULIET:'),\n",
       " ('a travel t', ' travel th'),\n",
       " (\"thy day's \", \"hy day's w\"),\n",
       " ('uld have a', 'ld have as'),\n",
       " (', but then', ' but then '),\n",
       " ('h if I hav', ' if I have'),\n",
       " ('How now! w', 'ow now! wh'),\n",
       " ('o thy bark', ' thy bark:'),\n",
       " (\"earn'd eve\", \"arn'd even\"),\n",
       " ('mine age,\\n', 'ine age,\\nA'),\n",
       " ('eed; for h', 'ed; for he'),\n",
       " ('E:\\nNay, co', ':\\nNay, com'),\n",
       " ('He is, my ', 'e is, my l'),\n",
       " ('s thou art', ' thou art '),\n",
       " ('y comes ba', ' comes bac'),\n",
       " ('n a pile\\nO', ' a pile\\nOf'),\n",
       " (' be that p', 'be that pr'),\n",
       " ('and waitin', 'nd waiting'),\n",
       " ('ng that:\\nS', 'g that:\\nSh'),\n",
       " ('\\nBUCKINGHA', 'BUCKINGHAM'),\n",
       " ('brace him;', 'race him; '),\n",
       " ('ll men, I ', 'l men, I h')]"
      ]
     },
     "execution_count": 4,
     "metadata": {},
     "output_type": "execute_result"
    }
   ],
   "source": [
    "config = {\n",
    "    \"d_model\": 100,\n",
    "    \"vocab_size\": len(vocab),\n",
    "    'batch_size': 32,\n",
    "    'context_window': 10,\n",
    "}\n",
    "\n",
    "\n",
    "def get_batches(data, split, batch_size, context_window):\n",
    "    train = data[:int(.8 * len(data))]\n",
    "    val = data[int(.8 * len(data)): int(.9 * len(data))]\n",
    "    test = data[int(.9 * len(data)):]\n",
    "    \n",
    "    batch_data = train\n",
    "    if split == 'val':\n",
    "        batch_data = val\n",
    "    \n",
    "    # pick random starting points\n",
    "    ix = torch.randint(0, batch_data.size(0) - context_window - 1, (batch_size,))\n",
    "    x = torch.stack([batch_data[i:i+context_window] for i in ix]).long()\n",
    "    y = torch.stack([batch_data[i+1:i+context_window+1] for i in ix]).long()\n",
    "    return x, y\n",
    "\n",
    "xs, ys = get_batches(dataset, 'train', config['batch_size'], config['context_window'])\n",
    "\n",
    "[(decode(xs[i].tolist()), decode(ys[i].tolist())) for i in range(len(xs))]"
   ]
  },
  {
   "cell_type": "code",
   "execution_count": 5,
   "metadata": {},
   "outputs": [],
   "source": [
    "@torch.no_grad()  # don't compute gradients for this function\n",
    "def evaluate_loss(model):\n",
    "    out = {}\n",
    "    model.eval()\n",
    "    for split in [\"train\", \"val\"]:\n",
    "        losses = []\n",
    "        for _ in range(10):\n",
    "            xb, yb = get_batches(dataset, split, config['batch_size'], config['context_window'])\n",
    "            _, loss = model(xb, yb)\n",
    "            losses.append(loss.item())\n",
    "        out[split] = np.mean(losses)\n",
    "    model.train()\n",
    "    return out"
   ]
  },
  {
   "cell_type": "code",
   "execution_count": 6,
   "metadata": {},
   "outputs": [],
   "source": [
    "class SwiGLU(nn.Module):\n",
    "    \"\"\"\n",
    "    Swish-Gated Linear Unit\n",
    "    https://arxiv.org/pdf/2002.05202v1.pdf\n",
    "    \"\"\"\n",
    "    def __init__(self, size):\n",
    "        super().__init__()\n",
    "        self.config = config\n",
    "        self.linear_gate = nn.Linear(size, size)\n",
    "        self.linear = nn.Linear(size, size)\n",
    "        self.beta = torch.randn(1, requires_grad=True)\n",
    "\n",
    "    def forward(self, x): \n",
    "        swish_gate = self.linear_gate(x) * torch.sigmoid(self.beta * self.linear_gate(x))\n",
    "        out = swish_gate * self.linear(x)\n",
    "        return out"
   ]
  },
  {
   "cell_type": "code",
   "execution_count": 7,
   "metadata": {},
   "outputs": [],
   "source": [
    "class RMSNorm(nn.Module):\n",
    "    def __init__(self, d, p=-1., eps=1e-8, bias=False):\n",
    "        \"\"\"\n",
    "            Root Mean Square Layer Normalization\n",
    "        :param d: model size\n",
    "        :param p: partial RMSNorm, valid value [0, 1], default -1.0 (disabled)\n",
    "        :param eps:  epsilon value, default 1e-8\n",
    "        :param bias: whether use bias term for RMSNorm, disabled by\n",
    "            default because RMSNorm doesn't enforce re-centering invariance.\n",
    "\n",
    "        https://github.com/bzhangGo/rmsnorm/blob/master/rmsnorm_torch.py\n",
    "        \"\"\"\n",
    "        super(RMSNorm, self).__init__()\n",
    "\n",
    "        self.eps = eps\n",
    "        self.d = d\n",
    "        self.p = p\n",
    "        self.bias = bias\n",
    "\n",
    "        self.scale = nn.Parameter(torch.ones(d))\n",
    "        self.register_parameter(\"scale\", self.scale)\n",
    "\n",
    "        if self.bias:\n",
    "            self.offset = nn.Parameter(torch.zeros(d))\n",
    "            self.register_parameter(\"offset\", self.offset)\n",
    "\n",
    "    def forward(self, x):\n",
    "        if self.p < 0. or self.p > 1.:\n",
    "            norm_x = x.norm(2, dim=-1, keepdim=True)\n",
    "            d_x = self.d\n",
    "        else:\n",
    "            partial_size = int(self.d * self.p)\n",
    "            partial_x, _ = torch.split(x, [partial_size, self.d - partial_size], dim=-1)\n",
    "\n",
    "            norm_x = partial_x.norm(2, dim=-1, keepdim=True)\n",
    "            d_x = partial_size\n",
    "\n",
    "        rms_x = norm_x * d_x ** (-1. / 2)\n",
    "        x_normed = x / (rms_x + self.eps)\n",
    "\n",
    "        if self.bias:\n",
    "            return self.scale * x_normed + self.offset\n",
    "\n",
    "        return self.scale * x_normed"
   ]
  },
  {
   "cell_type": "code",
   "execution_count": 48,
   "metadata": {},
   "outputs": [
    {
     "data": {
      "text/plain": [
       "tensor([2.9920, 1.8269, 1.3178, 1.1813, 0.8678, 0.6488, 0.4852, 0.3341, 0.2063,\n",
       "        0.0973], grad_fn=<SumBackward1>)"
      ]
     },
     "execution_count": 48,
     "metadata": {},
     "output_type": "execute_result"
    },
    {
     "data": {
      "image/png": "[encoded data removed]",
      "text/plain": [
       "<Figure size 640x480 with 2 Axes>"
      ]
     },
     "metadata": {},
     "output_type": "display_data"
    }
   ],
   "source": [
    "class LlamaAttentionLayer(nn.Module):\n",
    "    def __init__(self, config):\n",
    "        super().__init__()\n",
    "        self.config = config\n",
    "        self.w_q = nn.Linear(config['d_model'], config['d_model'])\n",
    "        self.w_k = nn.Linear(config['d_model'], config['d_model'])\n",
    "        self.w_v = nn.Linear(config['d_model'], config['d_model'])\n",
    "\n",
    "        self.multihead = nn.MultiheadAttention(config['d_model'], config['n_heads'], dropout=0.1, batch_first=True)\n",
    "        self.rms = RMSNorm(config['d_model'])\n",
    "\n",
    "    def forward(self, x, return_attn_weights=False):\n",
    "        b,m,d = x.shape\n",
    "        x = self.rms(x)\n",
    "        q = self.w_q(x)\n",
    "        k = self.w_k(x)\n",
    "        v = self.w_v(x)\n",
    "\n",
    "        activations, attn_weights = self.multihead(q,k,v, \n",
    "        attn_mask=nn.Transformer.generate_square_subsequent_mask(m),\n",
    "        is_causal=True)\n",
    "        if return_attn_weights:\n",
    "            return x + activations, attn_weights\n",
    "        return x + activations\n",
    "\n",
    "config = {\n",
    "    \"n_heads\": 8,\n",
    "    \"d_model\": 128,\n",
    "}\n",
    "m = LlamaAttentionLayer(config)\n",
    "batch = torch.randn(1, 10, config['d_model'])\n",
    "activations, attn_weights = m(batch, return_attn_weights=True)\n",
    "plt.imshow(attn_weights.detach().numpy()[0])\n",
    "plt.colorbar()\n",
    "\n",
    "attn_weights.squeeze(0).sum(dim=0)"
   ]
  },
  {
   "cell_type": "code",
   "execution_count": 49,
   "metadata": {},
   "outputs": [
    {
     "data": {
      "text/plain": [
       "torch.Size([1, 10, 128])"
      ]
     },
     "execution_count": 49,
     "metadata": {},
     "output_type": "execute_result"
    }
   ],
   "source": [
    "class LlamaBlock(nn.Module):\n",
    "    def __init__(self, config):\n",
    "        super().__init__()\n",
    "        self.config = config\n",
    "\n",
    "        self.attention = LlamaAttentionLayer(config)\n",
    "        self.feedforward = nn.Sequential(\n",
    "            nn.Linear(config['d_model'], config['d_model']),\n",
    "            SwiGLU(config['d_model']),\n",
    "        )\n",
    "        self.rms = RMSNorm(config['d_model'])\n",
    "    \n",
    "    def forward(self, x):\n",
    "        attended = self.attention(x)\n",
    "        out = attended + self.feedforward(self.rms(attended))\n",
    "        return out\n",
    "    \n",
    "config = {\n",
    "    \"n_heads\": 8,\n",
    "    \"d_model\": 128,\n",
    "}\n",
    "m = LlamaBlock(config)\n",
    "batch = torch.randn(1, 10, config['d_model'])\n",
    "m(batch).shape"
   ]
  },
  {
   "cell_type": "code",
   "execution_count": 50,
   "metadata": {},
   "outputs": [
    {
     "name": "stdout",
     "output_type": "stream",
     "text": [
      "n params: 233665\n"
     ]
    },
    {
     "data": {
      "text/plain": [
       "[\"\\naeVYhQtub'BCtIDRHWDt\",\n",
       " \"\\nlp'NUd:yEvC?x,aXMJAr\",\n",
       " '\\naXn:DcWG,WgfgO!la$$!',\n",
       " \"\\ni'cpzzAB:iFa glsldrP\",\n",
       " '\\nUEs\\nml&NvydY.B.irYwp']"
      ]
     },
     "execution_count": 50,
     "metadata": {},
     "output_type": "execute_result"
    }
   ],
   "source": [
    "from collections import OrderedDict\n",
    "\n",
    "class Llama(nn.Module):\n",
    "    def __init__(self, config):\n",
    "        super().__init__()\n",
    "        self.config = config\n",
    "        self.embeddings = nn.Embedding(config['vocab_size'], config['d_model'])\n",
    "\n",
    "        self.positional_embeddings = nn.Embedding(config['context_window'], config['d_model'])\n",
    "        self.llama_blocks = nn.Sequential(\n",
    "            OrderedDict([(f\"llama_{i}\", LlamaBlock(config)) for i in range(config['n_layers'])])\n",
    "        )\n",
    "\n",
    "        self.ffn = nn.Sequential(\n",
    "            nn.Linear(config['d_model'], config['d_model']),\n",
    "            SwiGLU(config['d_model']),\n",
    "            nn.Linear(config['d_model'], config['vocab_size']),\n",
    "        )\n",
    "\n",
    "    def forward(self, idx, targets=None):\n",
    "        x = self.embeddings(idx)\n",
    "        x = x + self.positional_embeddings(torch.arange(x.shape[1])).unsqueeze(0)\n",
    "        x = self.llama_blocks(x)\n",
    "        logits = self.ffn(x)\n",
    "\n",
    "        if targets is None:\n",
    "            return logits\n",
    "        \n",
    "        else:\n",
    "            loss = F.cross_entropy(logits.view(-1, self.config['vocab_size']), targets.view(-1))\n",
    "            return logits, loss\n",
    "        \n",
    "    def generate(self, idx, max_new_tokens=20):\n",
    "        for _ in range(max_new_tokens):\n",
    "            # call the model\n",
    "            logits = self(idx[:, -config['context_window']:])\n",
    "            last_time_step_logits = logits[\n",
    "                :, -1, :\n",
    "            ]  # all the batches (1), last time step, all the logits\n",
    "            p = F.softmax(last_time_step_logits, dim=-1)  # softmax to get probabilities\n",
    "            idx_next = torch.multinomial(\n",
    "                p, num_samples=1\n",
    "            )  # sample from the distribution to get the next token\n",
    "            idx = torch.cat([idx, idx_next], dim=-1)  # append to the sequence\n",
    "        return idx\n",
    "            \n",
    "config = {\n",
    "    \"n_heads\": 1,\n",
    "    \"d_model\": 128,\n",
    "    \"batch_size\": 32,\n",
    "    \"n_layers\": 1,\n",
    "    \"context_window\": 16,\n",
    "    \"vocab_size\": len(vocab),\n",
    "    \"epochs\": 1000,\n",
    "    \"log_interval\": 50,\n",
    "}\n",
    "m = Llama(config)\n",
    "xs, ys = get_batches(dataset, 'train', config['batch_size'], config['context_window'])\n",
    "m(xs, targets=ys)\n",
    "\n",
    "print(f\"n params: {sum([p.numel() for p in m.parameters() if p.requires_grad])}\")\n",
    "\n",
    "[decode(x) for x in m.generate(torch.zeros(5, 1).long()).tolist()]"
   ]
  },
  {
   "cell_type": "code",
   "execution_count": 51,
   "metadata": {},
   "outputs": [
    {
     "name": "stdout",
     "output_type": "stream",
     "text": [
      "Epoch 0 | val loss 4.127 | Time 0.060 | ETA in seconds 2.407\n",
      "['\\ng:eO!k$VJkr!mFrnpGfy', '\\no I:VRlouVwcVv-HMocL', \"\\nhR;qzAH&NN'?wS?k3Spc\", '\\nNGZ.nhE$J&Z$xm\\n!meXu', '\\nxdHT:ZgQfXM&DkmknU, ']\n",
      "Epoch 50 | val loss 2.727 | Time 2.341 | ETA in seconds 91.313\n",
      "['\\nqdHx\\nuomf itisaci;e ', '\\nThomird the wend dt ', '\\nnvo st, rdocowa gth ', '\\np:\\n\\n\\nOXe seane utomo', \"\\nZvh'd Incy Tcy hyome\"]\n",
      "Epoch 100 | val loss 2.498 | Time 2.292 | ETA in seconds 87.109\n",
      "['\\nINUSu Pik tha-sous f', '\\nANUTETOR:\\n\\nGs ke TRo', '\\nDNRIOARucOQI:\\nLCE:\\nT', '\\nK; mes runt.\\nWr!\\nI n', '\\nCENCEHHY:\\nROS:\\nT:\\nRC']\n",
      "Epoch 150 | val loss 2.376 | Time 2.264 | ETA in seconds 83.753\n",
      "['\\nDor IR:\\nHand our Ath', '\\ndades a; qplead;\\n\\nKo', '\\nMon, ut borthe, So k', '\\nGUNGIIG:\\nOle,\\nTow th', '\\nKhy, eoe sen potoik ']\n",
      "Epoch 200 | val loss 2.323 | Time 2.257 | ETA in seconds 81.253\n",
      "['\\nBable swerendreh tho', \"\\nKal'sth come! mour v\", '\\nETA:\\nIke.\\nWhy fablev', '\\n\\nThetced ingseame-de', '\\nSHARIVn: a he theare']\n",
      "Epoch 250 | val loss 2.268 | Time 2.252 | ETA in seconds 78.819\n",
      "['\\nNearlt\\nI burent, ep ', '\\nWhe hin whan doo cll', '\\nPONUSTO:\\nCome pauld;', \"\\nUICEHLO:\\nNopwt'\\nWher\", '\\nhak vity?\\n\\nESEOIUNUT']\n",
      "Epoch 300 | val loss 2.285 | Time 2.258 | ETA in seconds 76.763\n",
      "['\\nShiet,\\nRut ulotn asi', '\\nAll Uam alld:\\nAnd a!', '\\nNRDICENG:\\nInds soner', '\\nSen hatove? ben.:\\nTo', '\\nRIENWACTENES MAM:\\nMa']\n",
      "Epoch 350 | val loss 2.258 | Time 2.251 | ETA in seconds 74.293\n",
      "['\\nwe, you soff kimcent', '\\nUMARICIUCKUS:\\nSis ha', '\\n\\nNLKKID:\\nBaking Vowu', '\\nE, shat in.\\n\\nTLES: A', '\\nnore. yor you wity\\nT']\n",
      "Epoch 400 | val loss 2.265 | Time 2.285 | ETA in seconds 73.123\n",
      "['\\nO!\\nCOAMET ind: whand', '\\nMILINIO: mairgnd, th', '\\nSus wart qupod aim a', '\\nMoll blid\\nClate hall', \"\\nAnd main, 'f isth, A\"]\n",
      "Epoch 450 | val loss 2.253 | Time 2.279 | ETA in seconds 70.663\n",
      "['\\nULO:\\nWhown whir fich', \"\\n\\nBUCCESSi'ldk tobe a\", '\\nAUHENK:\\nWowe thoun w', '\\nNingun clomesifwichk', '\\nWonan tho swis beall']\n",
      "Epoch 500 | val loss 2.220 | Time 2.323 | ETA in seconds 69.695\n",
      "['\\nCDES:\\nThis Gasst so ', '\\nFGODDUICENE:\\nNocllay', '\\nSOZWARENRD:\\nAt Uhave', '\\n\\nNEE:\\nCoron gow wict', '\\n\\nKENE:\\nKall wise cur']\n",
      "Epoch 550 | val loss 2.216 | Time 2.324 | ETA in seconds 67.404\n",
      "['\\nIt en may,\\nurchapur;', '\\nOS:\\nNoingop heur me\\n', '\\nGMINULOUTENV:\\nGich W', '\\nBe vely meirn heang ', '\\nMabnow Gisto ber?\\nKa']\n",
      "Epoch 600 | val loss 2.152 | Time 2.255 | ETA in seconds 63.132\n",
      "[\"\\n's thin, enat in; fa\", '\\nCARY I hiss digst th', '\\nBeain. kiir Onoust U', '\\nJll.\\n\\nQe.\\n\\nMESSTowh ', '\\nCOMENESE:\\nLorss do b']\n",
      "Epoch 650 | val loss 2.138 | Time 2.258 | ETA in seconds 60.966\n",
      "[\"\\nFore Hasve's struck \", '\\nMe lave, stce of on ', '\\nLO:\\nThy to whot yero', \"\\nThe en'ster; in Macu\", '\\nThat wardis, bant fo']\n",
      "Epoch 700 | val loss 2.081 | Time 2.261 | ETA in seconds 58.782\n",
      "['\\n\\nHENRY Thrist touth?', '\\nMursur my wichs.\\n\\nME', '\\nMy seatrernen sith y', '\\nTher, all no thou is', '\\nMake wee to drider r']\n",
      "Epoch 750 | val loss 2.041 | Time 2.314 | ETA in seconds 57.851\n",
      "['\\nhere omme sush, as t', '\\nThis Wor him math al', \"\\nROMICIO:\\nAnd me see'\", '\\nNOMPCOULETYCORY HARD', '\\nClent,\\nFaint mave na']\n",
      "Epoch 800 | val loss 2.019 | Time 2.373 | ETA in seconds 56.961\n",
      "['\\nThan xick a me eny s', '\\nrewouif weedly have ', '\\nQiserell id wais,\\nIn', '\\nWelow, dupbuby sjoll', '\\nOld my augold, texte']\n",
      "Epoch 850 | val loss 1.979 | Time 2.266 | ETA in seconds 52.121\n",
      "['\\nNow I heep, thou ber', '\\nELWARIO:\\nIs vowere h', '\\nI, will still know a', '\\n\\nSOUCESTER:\\nAand, yo', '\\nNow yem hishart, and']\n",
      "Epoch 900 | val loss 2.009 | Time 2.258 | ETA in seconds 49.667\n",
      "['\\nPirdont of noor\\nFor ', '\\nMer loows,\\nWhat on o', '\\nLesing our; Mestanne', '\\nVitates hime forthem', '\\nPONES:\\nMy mave.\\n\\nRIC']\n",
      "Epoch 950 | val loss 1.981 | Time 2.263 | ETA in seconds 47.530\n",
      "['\\nMING ERESTIUS:\\nAmblo', '\\n\\nPirsedt, but Undath', '\\nJurse have her greop', '\\nFor is in frights do', '\\nWe a for to Sentenie']\n",
      "Epoch 1000 | val loss 1.964 | Time 2.260 | ETA in seconds 45.191\n",
      "['\\nYORK:\\nFor the fione ', '\\n\\nDUCHARD IVIABESTE:\\n', '\\nGLOUCESTARD:\\nO My th', '\\nWhen uporterfale bos', '\\nQARWICK:\\nNot is moth']\n",
      "Epoch 1050 | val loss 2.013 | Time 2.262 | ETA in seconds 42.969\n",
      "['\\nsois, way brothsmeff', '\\nKING YOREN Lame his ', '\\n\\nSOFALWARD:\\nHas well', '\\nFor withich rove!\\n\\nG', '\\nI neag is fagentloo:']\n",
      "Epoch 1100 | val loss 1.986 | Time 2.262 | ETA in seconds 40.722\n",
      "['\\nDurdan hered his Jra', '\\nThat.\\n\\nCAShere filli', '\\nWARULIUS:\\nBut of you', '\\n\\nYou Clol heash keet', '\\nLAUD I are sif to dh']\n",
      "Epoch 1150 | val loss 2.074 | Time 2.256 | ETA in seconds 38.351\n",
      "['\\nHy came f chom.\\n\\nCOL', '\\nRTWuth!\\nNide! I hape', '\\n\\n\\nKING EDWIA:\\nI fise', '\\nIf poscitters, this ', '\\nWith shand, and fafu']\n",
      "Epoch 1200 | val loss 2.027 | Time 2.261 | ETA in seconds 36.175\n",
      "[\"\\n shelps death's ssat\", \"\\nWhy tomer:'\\nWhern th\", '\\noser your that pall ', '\\nTrersered sill quaj,', \"\\nTho'los to of rooyow\"]\n",
      "Epoch 1250 | val loss 2.028 | Time 2.279 | ETA in seconds 34.183\n",
      "['\\nNonsem,\\nScalt the by', '\\nSuch asell boin;\\nIf ', '\\nmariight this wath a', \"\\nTrcofnot's doust,\\n:o\", '\\nHe bamman, baridy,\\nR']\n",
      "Epoch 1300 | val loss 1.997 | Time 2.365 | ETA in seconds 33.109\n",
      "[\"\\nI'ed my was it ible \", '\\nArages, If land had ', '\\neven my his afursie?', '\\nThresemeem he here s', \"\\nAnd saf have'd Chonc\"]\n",
      "Epoch 1350 | val loss 1.979 | Time 2.374 | ETA in seconds 30.866\n",
      "['\\n\\nAnd tway way all th', '\\nThe nober soble you ', '\\nMy faer broke, hore?', '\\nThe which ai thert h', '\\nSexviou will if your']\n",
      "Epoch 1400 | val loss 1.947 | Time 2.334 | ETA in seconds 28.005\n",
      "[\"\\nAhensting 'Town thei\", '\\nNo, Etwing.\\nThe furm', '\\n\\nCORIALT:\\nO which un', '\\nYis I have move suns', '\\nMIMIRLAULIA:\\nAy, Lue']\n",
      "Epoch 1450 | val loss 1.876 | Time 2.348 | ETA in seconds 25.825\n",
      "[\"\\nA cable? the kint o'\", '\\nHone upondy but soul', \"\\nKING Edward I'll ran\", \"\\nAUGERENE:\\n'Sam MAwas\", '\\nRORIOLUS:\\nNow tal, d']\n",
      "Epoch 1500 | val loss 1.923 | Time 2.273 | ETA in seconds 22.728\n",
      "['\\nOuld that lashance,-', '\\nSoldoumbnot of lance', '\\nJurdere, a havon in ', '\\nMaren:\\nAnd out deish', '\\nAFLUMET:\\nMay shall s']\n",
      "Epoch 1550 | val loss 1.940 | Time 2.260 | ETA in seconds 20.342\n",
      "['\\nThey, hear suforow t', \"\\nWith miny's?\\nA stemi\", \"\\nNor'd ere of Aven ga\", \"\\nNor off as\\n'Tis fare\", '\\nAjpocly cale had tig']\n",
      "Epoch 1600 | val loss 1.858 | Time 2.265 | ETA in seconds 18.120\n",
      "['\\nZothed king? Vormand', '\\n\\nAULIET:\\nFor an, so ', '\\nPARDIEN MARD III:\\nWh', '\\nAnd thy hearts will ', '\\nour corfurpors, for ']\n",
      "Epoch 1650 | val loss 1.920 | Time 2.259 | ETA in seconds 15.816\n",
      "['\\n\\nMENENENIUS:\\nSexake ', '\\nTo-thou, more anishe', '\\nHurfillowarding they', '\\nGive the deswifel th', '\\nKase ther con!\\nI bea']\n",
      "Epoch 1700 | val loss 1.969 | Time 2.256 | ETA in seconds 13.535\n",
      "['\\nFirst Norst nord up ', '\\n\\nKING EDWARGARETHOMB', '\\nKING RICHARD:\\nHeny t', \"\\ndell that starieh'd\\n\", '\\nA liste it the lord,']\n",
      "Epoch 1750 | val loss 2.003 | Time 2.282 | ETA in seconds 11.411\n",
      "['\\nDo sought MAR:\\nHon t', '\\nBut you jook bast no', \"\\nFir I dis'd ther,\\n'd\", '\\nBRUSTo, we trut lien', \"\\n\\nBut my nith did's a\"]\n",
      "Epoch 1800 | val loss 1.929 | Time 2.256 | ETA in seconds 9.024\n",
      "['\\nThe deith makes upon', '\\nAss are in ipenizy k', '\\nCRINIUS:\\nMinines orl', '\\nYou ret it happy.\\n\\nW', \"\\nPlesse, to down wed'\"]\n",
      "Epoch 1850 | val loss 1.921 | Time 2.255 | ETA in seconds 6.765\n",
      "['\\nGncest that Is brise', '\\n\\nTYRY PAPULET:\\nINIAl', '\\n\\nA PRUTUS:\\nI by here', '\\nI am my let and bloo', '\\nRucE Noy come upper:']\n",
      "Epoch 1900 | val loss 1.912 | Time 2.249 | ETA in seconds 4.498\n",
      "[\"\\nWheny wold sall'd so\", '\\nKING RICHARD II:\\n\\nSF', '\\nOw faule kins be out', '\\nHenringuetion to cro', '\\nIS:\\nThe I paing\\nTo w']\n",
      "Epoch 1950 | val loss 1.907 | Time 2.285 | ETA in seconds 2.285\n",
      "['\\nBut beceen on thou w', '\\nGLOUCESTEM:\\nAnd can ', '\\nSUS:\\nAs stafe hose h', '\\nThat upom do his, al', '\\nThou vroftle the kin']\n"
     ]
    },
    {
     "data": {
      "text/plain": [
       "<Axes: >"
      ]
     },
     "execution_count": 51,
     "metadata": {},
     "output_type": "execute_result"
    },
    {
     "data": {
      "image/png": "[encoded data removed]",
      "text/plain": [
       "<Figure size 640x480 with 1 Axes>"
      ]
     },
     "metadata": {},
     "output_type": "display_data"
    }
   ],
   "source": [
    "config = {\n",
    "    \"n_heads\": 8,\n",
    "    \"d_model\": 128,\n",
    "    \"batch_size\": 32,\n",
    "    \"n_layers\": 4,\n",
    "    \"context_window\": 16,\n",
    "    \"vocab_size\": len(vocab),\n",
    "    \"epochs\": 2000,\n",
    "    \"log_interval\": 50,\n",
    "}\n",
    "model = Llama(config)\n",
    "\n",
    "optimizer = torch.optim.Adam(\n",
    "    model.parameters(), \n",
    "    lr=1e-3\n",
    ")\n",
    "scheduler = torch.optim.lr_scheduler.CosineAnnealingLR(optimizer, 300, eta_min=1e-5)\n",
    "\n",
    "losses = []\n",
    "start_time = time.time()\n",
    "for epoch in range(config['epochs']):\n",
    "    optimizer.zero_grad()\n",
    "    \n",
    "    xs, ys = get_batches(dataset, 'train', config['batch_size'], config['context_window'])\n",
    "    logits, loss = model(xs, targets=ys)\n",
    "    loss.backward()\n",
    "\n",
    "    nn.utils.clip_grad_norm_(model.parameters(), 1.0)\n",
    "    optimizer.step()\n",
    "    scheduler.step()\n",
    "    \n",
    "    if epoch % config['log_interval'] == 0:\n",
    "        batch_time = time.time() - start_time\n",
    "        x = evaluate_loss(model)\n",
    "        losses += [x]\n",
    "        print(f\"Epoch {epoch} | val loss {x['val']:.3f} | Time {batch_time:.3f} | ETA in seconds {batch_time * (config['epochs'] - epoch)/config['log_interval'] :.3f}\")\n",
    "        start_time = time.time()\n",
    "\n",
    "        print([decode(x) for x in model.generate(torch.zeros(5, 1).long()).tolist()])\n",
    "\n",
    "pd.DataFrame(losses).plot()"
   ]
  },
  {
   "cell_type": "code",
   "execution_count": 47,
   "metadata": {},
   "outputs": [
    {
     "data": {
      "text/plain": [
       "['ZIIA:\\nShe rackly with us hils n',\n",
       " 'Pen his his beginsts more did t',\n",
       " 'Veline resiss brought. \\nDUCHARW',\n",
       " 'n you norsed, that my not to Ce',\n",
       " 'e sail roy marnam.\\n\\nPOGrient my']"
      ]
     },
     "execution_count": 47,
     "metadata": {},
     "output_type": "execute_result"
    }
   ],
   "source": [
    "def generate(model, idx, max_length=30):\n",
    "    x = idx\n",
    "    with torch.no_grad():\n",
    "        for _ in range(max_length):\n",
    "            sequence = x[:, -model.config['context_window']:]\n",
    "            logits = model(sequence)[:,-1, :]\n",
    "            probs = F.softmax(logits, dim=-1)\n",
    "            pred = torch.multinomial(probs, 1, replacement=True)\n",
    "            x = torch.cat([x, pred], dim=-1)\n",
    "        return x\n",
    "\n",
    "[decode(x) for x in generate(model, torch.randint(0, len(vocab), (5, 1)).long()).tolist()]"
   ]
  },
  {
   "cell_type": "code",
   "execution_count": null,
   "metadata": {},
   "outputs": [],
   "source": []
  }
 ],
 "metadata": {
  "kernelspec": {
   "display_name": ".llama",
   "language": "python",
   "name": "python3"
  },
  "language_info": {
   "codemirror_mode": {
    "name": "ipython",
    "version": 3
   },
   "file_extension": ".py",
   "mimetype": "text/x-python",
   "name": "python",
   "nbconvert_exporter": "python",
   "pygments_lexer": "ipython3",
   "version": "3.11.4"
  },
  "orig_nbformat": 4
 },
 "nbformat": 4,
 "nbformat_minor": 2
}
